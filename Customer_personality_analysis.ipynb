{
 "cells": [
  {
   "cell_type": "code",
   "execution_count": 1,
   "id": "365ea83b",
   "metadata": {
    "pycharm": {
     "name": "#%%\n"
    }
   },
   "outputs": [],
   "source": [
    "# Import The Libraries \n",
    "import pandas as pd # Data preprocessing , read_data\n",
    "import matplotlib.pyplot as plt # Visualization of the data\n",
    "from sklearn.decomposition import PCA\n",
    "from sklearn.cluster import KMeans\n",
    "from sklearn.mixture import GaussianMixture\n",
    "from sklearn.cluster import DBSCAN\n",
    "from sklearn.cluster import AgglomerativeClustering\n",
    "from sklearn.preprocessing import Normalizer\n",
    "from sklearn.preprocessing import StandardScaler\n",
    "from sklearn import metrics\n",
    "import seaborn as sns\n",
    "import warnings\n",
    "warnings.filterwarnings(\"ignore\")\n",
    "%matplotlib inline"
   ]
  },
  {
   "cell_type": "code",
   "execution_count": 2,
   "id": "3f4a0f29",
   "metadata": {
    "pycharm": {
     "name": "#%%\n"
    }
   },
   "outputs": [
    {
     "data": {
      "text/plain": "     ID  Year_Birth   Education Marital_Status   Income  Kidhome  Teenhome  \\\n0  5524        1957  Graduation         Single  58138.0        0         0   \n1  2174        1954  Graduation         Single  46344.0        1         1   \n\n  Dt_Customer  Recency  MntWines  ...  NumWebVisitsMonth  AcceptedCmp3  \\\n0  04-09-2012       58       635  ...                  7             0   \n1  08-03-2014       38        11  ...                  5             0   \n\n   AcceptedCmp4  AcceptedCmp5  AcceptedCmp1  AcceptedCmp2  Complain  \\\n0             0             0             0             0         0   \n1             0             0             0             0         0   \n\n   Z_CostContact  Z_Revenue  Response  \n0              3         11         1  \n1              3         11         0  \n\n[2 rows x 29 columns]",
      "text/html": "<div>\n<style scoped>\n    .dataframe tbody tr th:only-of-type {\n        vertical-align: middle;\n    }\n\n    .dataframe tbody tr th {\n        vertical-align: top;\n    }\n\n    .dataframe thead th {\n        text-align: right;\n    }\n</style>\n<table border=\"1\" class=\"dataframe\">\n  <thead>\n    <tr style=\"text-align: right;\">\n      <th></th>\n      <th>ID</th>\n      <th>Year_Birth</th>\n      <th>Education</th>\n      <th>Marital_Status</th>\n      <th>Income</th>\n      <th>Kidhome</th>\n      <th>Teenhome</th>\n      <th>Dt_Customer</th>\n      <th>Recency</th>\n      <th>MntWines</th>\n      <th>...</th>\n      <th>NumWebVisitsMonth</th>\n      <th>AcceptedCmp3</th>\n      <th>AcceptedCmp4</th>\n      <th>AcceptedCmp5</th>\n      <th>AcceptedCmp1</th>\n      <th>AcceptedCmp2</th>\n      <th>Complain</th>\n      <th>Z_CostContact</th>\n      <th>Z_Revenue</th>\n      <th>Response</th>\n    </tr>\n  </thead>\n  <tbody>\n    <tr>\n      <th>0</th>\n      <td>5524</td>\n      <td>1957</td>\n      <td>Graduation</td>\n      <td>Single</td>\n      <td>58138.0</td>\n      <td>0</td>\n      <td>0</td>\n      <td>04-09-2012</td>\n      <td>58</td>\n      <td>635</td>\n      <td>...</td>\n      <td>7</td>\n      <td>0</td>\n      <td>0</td>\n      <td>0</td>\n      <td>0</td>\n      <td>0</td>\n      <td>0</td>\n      <td>3</td>\n      <td>11</td>\n      <td>1</td>\n    </tr>\n    <tr>\n      <th>1</th>\n      <td>2174</td>\n      <td>1954</td>\n      <td>Graduation</td>\n      <td>Single</td>\n      <td>46344.0</td>\n      <td>1</td>\n      <td>1</td>\n      <td>08-03-2014</td>\n      <td>38</td>\n      <td>11</td>\n      <td>...</td>\n      <td>5</td>\n      <td>0</td>\n      <td>0</td>\n      <td>0</td>\n      <td>0</td>\n      <td>0</td>\n      <td>0</td>\n      <td>3</td>\n      <td>11</td>\n      <td>0</td>\n    </tr>\n  </tbody>\n</table>\n<p>2 rows × 29 columns</p>\n</div>"
     },
     "execution_count": 2,
     "metadata": {},
     "output_type": "execute_result"
    }
   ],
   "source": [
    "# Read the Customer Personality Analysis data \n",
    "main_df = pd.read_csv(\"marketing_campaign.csv\", sep=\"\\t\")\n",
    "main_df.head(2)"
   ]
  },
  {
   "cell_type": "markdown",
   "id": "09cd86dd",
   "metadata": {
    "pycharm": {
     "name": "#%% md\n"
    }
   },
   "source": [
    "### Data Cleaning"
   ]
  },
  {
   "cell_type": "code",
   "execution_count": 3,
   "id": "37376a2d",
   "metadata": {
    "pycharm": {
     "name": "#%%\n"
    }
   },
   "outputs": [
    {
     "data": {
      "text/plain": "     ID  Year_Birth   Education Marital_Status   Income  Kidhome  Teenhome  \\\n0  5524        1957  Graduation         Single  58138.0        0         0   \n1  2174        1954  Graduation         Single  46344.0        1         1   \n2  4141        1965  Graduation       Together  71613.0        0         0   \n3  6182        1984  Graduation       Together  26646.0        1         0   \n\n  Dt_Customer  Recency  MntWines  ...  NumWebVisitsMonth  AcceptedCmp3  \\\n0  04-09-2012       58       635  ...                  7             0   \n1  08-03-2014       38        11  ...                  5             0   \n2  21-08-2013       26       426  ...                  4             0   \n3  10-02-2014       26        11  ...                  6             0   \n\n   AcceptedCmp4  AcceptedCmp5  AcceptedCmp1  AcceptedCmp2  Complain  \\\n0             0             0             0             0         0   \n1             0             0             0             0         0   \n2             0             0             0             0         0   \n3             0             0             0             0         0   \n\n   Z_CostContact  Z_Revenue  Response  \n0              3         11         1  \n1              3         11         0  \n2              3         11         0  \n3              3         11         0  \n\n[4 rows x 29 columns]",
      "text/html": "<div>\n<style scoped>\n    .dataframe tbody tr th:only-of-type {\n        vertical-align: middle;\n    }\n\n    .dataframe tbody tr th {\n        vertical-align: top;\n    }\n\n    .dataframe thead th {\n        text-align: right;\n    }\n</style>\n<table border=\"1\" class=\"dataframe\">\n  <thead>\n    <tr style=\"text-align: right;\">\n      <th></th>\n      <th>ID</th>\n      <th>Year_Birth</th>\n      <th>Education</th>\n      <th>Marital_Status</th>\n      <th>Income</th>\n      <th>Kidhome</th>\n      <th>Teenhome</th>\n      <th>Dt_Customer</th>\n      <th>Recency</th>\n      <th>MntWines</th>\n      <th>...</th>\n      <th>NumWebVisitsMonth</th>\n      <th>AcceptedCmp3</th>\n      <th>AcceptedCmp4</th>\n      <th>AcceptedCmp5</th>\n      <th>AcceptedCmp1</th>\n      <th>AcceptedCmp2</th>\n      <th>Complain</th>\n      <th>Z_CostContact</th>\n      <th>Z_Revenue</th>\n      <th>Response</th>\n    </tr>\n  </thead>\n  <tbody>\n    <tr>\n      <th>0</th>\n      <td>5524</td>\n      <td>1957</td>\n      <td>Graduation</td>\n      <td>Single</td>\n      <td>58138.0</td>\n      <td>0</td>\n      <td>0</td>\n      <td>04-09-2012</td>\n      <td>58</td>\n      <td>635</td>\n      <td>...</td>\n      <td>7</td>\n      <td>0</td>\n      <td>0</td>\n      <td>0</td>\n      <td>0</td>\n      <td>0</td>\n      <td>0</td>\n      <td>3</td>\n      <td>11</td>\n      <td>1</td>\n    </tr>\n    <tr>\n      <th>1</th>\n      <td>2174</td>\n      <td>1954</td>\n      <td>Graduation</td>\n      <td>Single</td>\n      <td>46344.0</td>\n      <td>1</td>\n      <td>1</td>\n      <td>08-03-2014</td>\n      <td>38</td>\n      <td>11</td>\n      <td>...</td>\n      <td>5</td>\n      <td>0</td>\n      <td>0</td>\n      <td>0</td>\n      <td>0</td>\n      <td>0</td>\n      <td>0</td>\n      <td>3</td>\n      <td>11</td>\n      <td>0</td>\n    </tr>\n    <tr>\n      <th>2</th>\n      <td>4141</td>\n      <td>1965</td>\n      <td>Graduation</td>\n      <td>Together</td>\n      <td>71613.0</td>\n      <td>0</td>\n      <td>0</td>\n      <td>21-08-2013</td>\n      <td>26</td>\n      <td>426</td>\n      <td>...</td>\n      <td>4</td>\n      <td>0</td>\n      <td>0</td>\n      <td>0</td>\n      <td>0</td>\n      <td>0</td>\n      <td>0</td>\n      <td>3</td>\n      <td>11</td>\n      <td>0</td>\n    </tr>\n    <tr>\n      <th>3</th>\n      <td>6182</td>\n      <td>1984</td>\n      <td>Graduation</td>\n      <td>Together</td>\n      <td>26646.0</td>\n      <td>1</td>\n      <td>0</td>\n      <td>10-02-2014</td>\n      <td>26</td>\n      <td>11</td>\n      <td>...</td>\n      <td>6</td>\n      <td>0</td>\n      <td>0</td>\n      <td>0</td>\n      <td>0</td>\n      <td>0</td>\n      <td>0</td>\n      <td>3</td>\n      <td>11</td>\n      <td>0</td>\n    </tr>\n  </tbody>\n</table>\n<p>4 rows × 29 columns</p>\n</div>"
     },
     "execution_count": 3,
     "metadata": {},
     "output_type": "execute_result"
    }
   ],
   "source": [
    "#Creating a copy of the dataset\n",
    "df = main_df.copy()\n",
    "df.head(4)"
   ]
  },
  {
   "cell_type": "code",
   "execution_count": 4,
   "outputs": [
    {
     "name": "stdout",
     "output_type": "stream",
     "text": [
      "                           ID  Year_Birth    Income   Kidhome  Teenhome  \\\n",
      "ID                   1.000000    0.000028  0.013095  0.002406 -0.002580   \n",
      "Year_Birth           0.000028    1.000000 -0.161791  0.230176 -0.352111   \n",
      "Income               0.013095   -0.161791  1.000000 -0.428669  0.019133   \n",
      "Kidhome              0.002406    0.230176 -0.428669  1.000000 -0.036133   \n",
      "Teenhome            -0.002580   -0.352111  0.019133 -0.036133  1.000000   \n",
      "Recency             -0.046524   -0.019871 -0.003970  0.008827  0.016198   \n",
      "MntWines            -0.022878   -0.157773  0.578650 -0.496297  0.004846   \n",
      "MntFruits            0.004600   -0.017917  0.430842 -0.372581 -0.176764   \n",
      "MntMeatProducts     -0.004437   -0.030872  0.584633 -0.437129 -0.261160   \n",
      "MntFishProducts     -0.024475   -0.041625  0.438871 -0.387644 -0.204187   \n",
      "MntSweetProducts    -0.007642   -0.018133  0.440744 -0.370673 -0.162475   \n",
      "MntGoldProds        -0.013438   -0.061818  0.325916 -0.349595 -0.021725   \n",
      "NumDealsPurchases   -0.037166   -0.060846 -0.083101  0.221798  0.387741   \n",
      "NumWebPurchases     -0.018924   -0.145040  0.387878 -0.361647  0.155500   \n",
      "NumCatalogPurchases -0.003440   -0.121275  0.589162 -0.502237 -0.110769   \n",
      "NumStorePurchases   -0.014927   -0.128272  0.529362 -0.499683  0.050695   \n",
      "NumWebVisitsMonth   -0.007446    0.121139 -0.553088  0.447846  0.134884   \n",
      "AcceptedCmp3        -0.036040    0.061774 -0.016174  0.014674 -0.042677   \n",
      "AcceptedCmp4        -0.025387   -0.060510  0.184400 -0.161600  0.038886   \n",
      "AcceptedCmp5        -0.007517    0.007123  0.335943 -0.205634 -0.191050   \n",
      "AcceptedCmp1        -0.021614   -0.005930  0.276820 -0.172339 -0.140090   \n",
      "AcceptedCmp2        -0.015061   -0.006539  0.087545 -0.081716 -0.015605   \n",
      "Complain             0.033883   -0.030128 -0.027225  0.040207  0.003138   \n",
      "Z_CostContact             NaN         NaN       NaN       NaN       NaN   \n",
      "Z_Revenue                 NaN         NaN       NaN       NaN       NaN   \n",
      "Response            -0.021968    0.021325  0.133047 -0.080008 -0.154446   \n",
      "\n",
      "                      Recency  MntWines  MntFruits  MntMeatProducts  \\\n",
      "ID                  -0.046524 -0.022878   0.004600        -0.004437   \n",
      "Year_Birth          -0.019871 -0.157773  -0.017917        -0.030872   \n",
      "Income              -0.003970  0.578650   0.430842         0.584633   \n",
      "Kidhome              0.008827 -0.496297  -0.372581        -0.437129   \n",
      "Teenhome             0.016198  0.004846  -0.176764        -0.261160   \n",
      "Recency              1.000000  0.016064  -0.004306         0.023056   \n",
      "MntWines             0.016064  1.000000   0.389637         0.562667   \n",
      "MntFruits           -0.004306  0.389637   1.000000         0.543105   \n",
      "MntMeatProducts      0.023056  0.562667   0.543105         1.000000   \n",
      "MntFishProducts      0.001079  0.399753   0.594804         0.568402   \n",
      "MntSweetProducts     0.022670  0.386581   0.567164         0.523846   \n",
      "MntGoldProds         0.016693  0.387516   0.392995         0.350609   \n",
      "NumDealsPurchases   -0.001098  0.010940  -0.132114        -0.122415   \n",
      "NumWebPurchases     -0.010726  0.542265   0.296735         0.293761   \n",
      "NumCatalogPurchases  0.025110  0.635226   0.487917         0.723827   \n",
      "NumStorePurchases    0.000799  0.642100   0.461758         0.479659   \n",
      "NumWebVisitsMonth   -0.021445 -0.320653  -0.418383        -0.539470   \n",
      "AcceptedCmp3        -0.032991  0.062202   0.014727         0.018272   \n",
      "AcceptedCmp4         0.018826  0.373286   0.010152         0.102912   \n",
      "AcceptedCmp5         0.000129  0.472613   0.215833         0.373769   \n",
      "AcceptedCmp1        -0.019283  0.354133   0.194748         0.309761   \n",
      "AcceptedCmp2        -0.001781  0.205907  -0.009773         0.043033   \n",
      "Complain             0.013231 -0.039007  -0.005166        -0.023483   \n",
      "Z_CostContact             NaN       NaN        NaN              NaN   \n",
      "Z_Revenue                 NaN       NaN        NaN              NaN   \n",
      "Response            -0.198437  0.247254   0.125289         0.236335   \n",
      "\n",
      "                     MntFishProducts  ...  NumWebVisitsMonth  AcceptedCmp3  \\\n",
      "ID                         -0.024475  ...          -0.007446     -0.036040   \n",
      "Year_Birth                 -0.041625  ...           0.121139      0.061774   \n",
      "Income                      0.438871  ...          -0.553088     -0.016174   \n",
      "Kidhome                    -0.387644  ...           0.447846      0.014674   \n",
      "Teenhome                   -0.204187  ...           0.134884     -0.042677   \n",
      "Recency                     0.001079  ...          -0.021445     -0.032991   \n",
      "MntWines                    0.399753  ...          -0.320653      0.062202   \n",
      "MntFruits                   0.594804  ...          -0.418383      0.014727   \n",
      "MntMeatProducts             0.568402  ...          -0.539470      0.018272   \n",
      "MntFishProducts             1.000000  ...          -0.446003      0.000357   \n",
      "MntSweetProducts            0.579870  ...          -0.423294      0.001530   \n",
      "MntGoldProds                0.422875  ...          -0.250719      0.123091   \n",
      "NumDealsPurchases          -0.139361  ...           0.347633     -0.023109   \n",
      "NumWebPurchases             0.293681  ...          -0.055846      0.042176   \n",
      "NumCatalogPurchases         0.534478  ...          -0.520364      0.104730   \n",
      "NumStorePurchases           0.459855  ...          -0.428473     -0.067577   \n",
      "NumWebVisitsMonth          -0.446003  ...           1.000000      0.061211   \n",
      "AcceptedCmp3                0.000357  ...           0.061211      1.000000   \n",
      "AcceptedCmp4                0.016843  ...          -0.032126     -0.079512   \n",
      "AcceptedCmp5                0.199578  ...          -0.278113      0.080316   \n",
      "AcceptedCmp1                0.260762  ...          -0.192502      0.094751   \n",
      "AcceptedCmp2                0.002577  ...          -0.007196      0.072020   \n",
      "Complain                   -0.020953  ...           0.019769      0.008415   \n",
      "Z_CostContact                    NaN  ...                NaN           NaN   \n",
      "Z_Revenue                        NaN  ...                NaN           NaN   \n",
      "Response                    0.111331  ...          -0.003987      0.254258   \n",
      "\n",
      "                     AcceptedCmp4  AcceptedCmp5  AcceptedCmp1  AcceptedCmp2  \\\n",
      "ID                      -0.025387     -0.007517     -0.021614     -0.015061   \n",
      "Year_Birth              -0.060510      0.007123     -0.005930     -0.006539   \n",
      "Income                   0.184400      0.335943      0.276820      0.087545   \n",
      "Kidhome                 -0.161600     -0.205634     -0.172339     -0.081716   \n",
      "Teenhome                 0.038886     -0.191050     -0.140090     -0.015605   \n",
      "Recency                  0.018826      0.000129     -0.019283     -0.001781   \n",
      "MntWines                 0.373286      0.472613      0.354133      0.205907   \n",
      "MntFruits                0.010152      0.215833      0.194748     -0.009773   \n",
      "MntMeatProducts          0.102912      0.373769      0.309761      0.043033   \n",
      "MntFishProducts          0.016843      0.199578      0.260762      0.002577   \n",
      "MntSweetProducts         0.028641      0.259590      0.241818      0.009985   \n",
      "MntGoldProds             0.022268      0.181021      0.166396      0.049990   \n",
      "NumDealsPurchases        0.015594     -0.183248     -0.123244     -0.037695   \n",
      "NumWebPurchases          0.155903      0.138684      0.155143      0.034188   \n",
      "NumCatalogPurchases      0.139247      0.322321      0.308097      0.099852   \n",
      "NumStorePurchases        0.179379      0.214790      0.183249      0.085189   \n",
      "NumWebVisitsMonth       -0.032126     -0.278113     -0.192502     -0.007196   \n",
      "AcceptedCmp3            -0.079512      0.080316      0.094751      0.072020   \n",
      "AcceptedCmp4             1.000000      0.306526      0.251300      0.292210   \n",
      "AcceptedCmp5             0.306526      1.000000      0.403078      0.221533   \n",
      "AcceptedCmp1             0.251300      0.403078      1.000000      0.175315   \n",
      "AcceptedCmp2             0.292210      0.221533      0.175315      1.000000   \n",
      "Complain                -0.027611     -0.009419     -0.025499     -0.011334   \n",
      "Z_CostContact                 NaN           NaN           NaN           NaN   \n",
      "Z_Revenue                     NaN           NaN           NaN           NaN   \n",
      "Response                 0.177019      0.326634      0.293982      0.169293   \n",
      "\n",
      "                     Complain  Z_CostContact  Z_Revenue  Response  \n",
      "ID                   0.033883            NaN        NaN -0.021968  \n",
      "Year_Birth          -0.030128            NaN        NaN  0.021325  \n",
      "Income              -0.027225            NaN        NaN  0.133047  \n",
      "Kidhome              0.040207            NaN        NaN -0.080008  \n",
      "Teenhome             0.003138            NaN        NaN -0.154446  \n",
      "Recency              0.013231            NaN        NaN -0.198437  \n",
      "MntWines            -0.039007            NaN        NaN  0.247254  \n",
      "MntFruits           -0.005166            NaN        NaN  0.125289  \n",
      "MntMeatProducts     -0.023483            NaN        NaN  0.236335  \n",
      "MntFishProducts     -0.020953            NaN        NaN  0.111331  \n",
      "MntSweetProducts    -0.022485            NaN        NaN  0.117372  \n",
      "MntGoldProds        -0.030861            NaN        NaN  0.139850  \n",
      "NumDealsPurchases    0.000420            NaN        NaN  0.002238  \n",
      "NumWebPurchases     -0.016310            NaN        NaN  0.148730  \n",
      "NumCatalogPurchases -0.020453            NaN        NaN  0.220810  \n",
      "NumStorePurchases   -0.016524            NaN        NaN  0.039363  \n",
      "NumWebVisitsMonth    0.019769            NaN        NaN -0.003987  \n",
      "AcceptedCmp3         0.008415            NaN        NaN  0.254258  \n",
      "AcceptedCmp4        -0.027611            NaN        NaN  0.177019  \n",
      "AcceptedCmp5        -0.009419            NaN        NaN  0.326634  \n",
      "AcceptedCmp1        -0.025499            NaN        NaN  0.293982  \n",
      "AcceptedCmp2        -0.011334            NaN        NaN  0.169293  \n",
      "Complain             1.000000            NaN        NaN -0.001707  \n",
      "Z_CostContact             NaN            NaN        NaN       NaN  \n",
      "Z_Revenue                 NaN            NaN        NaN       NaN  \n",
      "Response            -0.001707            NaN        NaN  1.000000  \n",
      "\n",
      "[26 rows x 26 columns]\n"
     ]
    }
   ],
   "source": [
    "corrMatrix = df.corr()\n",
    "print (corrMatrix)"
   ],
   "metadata": {
    "collapsed": false,
    "pycharm": {
     "name": "#%%\n"
    }
   }
  },
  {
   "cell_type": "code",
   "execution_count": 5,
   "id": "b82dcc9e",
   "metadata": {
    "pycharm": {
     "name": "#%%\n"
    }
   },
   "outputs": [
    {
     "data": {
      "text/plain": "(2240, 29)"
     },
     "execution_count": 5,
     "metadata": {},
     "output_type": "execute_result"
    }
   ],
   "source": [
    "df.shape"
   ]
  },
  {
   "cell_type": "code",
   "execution_count": 6,
   "id": "77f62625",
   "metadata": {
    "pycharm": {
     "name": "#%%\n"
    }
   },
   "outputs": [],
   "source": [
    "df.drop('ID', axis=1,inplace=True)"
   ]
  },
  {
   "cell_type": "code",
   "execution_count": 7,
   "id": "86eb1574",
   "metadata": {
    "pycharm": {
     "name": "#%%\n"
    }
   },
   "outputs": [
    {
     "data": {
      "text/plain": "Year_Birth              0\nEducation               0\nMarital_Status          0\nIncome                 24\nKidhome                 0\nTeenhome                0\nDt_Customer             0\nRecency                 0\nMntWines                0\nMntFruits               0\nMntMeatProducts         0\nMntFishProducts         0\nMntSweetProducts        0\nMntGoldProds            0\nNumDealsPurchases       0\nNumWebPurchases         0\nNumCatalogPurchases     0\nNumStorePurchases       0\nNumWebVisitsMonth       0\nAcceptedCmp3            0\nAcceptedCmp4            0\nAcceptedCmp5            0\nAcceptedCmp1            0\nAcceptedCmp2            0\nComplain                0\nZ_CostContact           0\nZ_Revenue               0\nResponse                0\ndtype: int64"
     },
     "execution_count": 7,
     "metadata": {},
     "output_type": "execute_result"
    }
   ],
   "source": [
    "df.isnull().sum()"
   ]
  },
  {
   "cell_type": "code",
   "execution_count": 8,
   "id": "d05f8b99",
   "metadata": {
    "pycharm": {
     "name": "#%%\n"
    }
   },
   "outputs": [],
   "source": [
    "df[\"Income\"] = df[\"Income\"].fillna(df[\"Income\"].median())"
   ]
  },
  {
   "cell_type": "code",
   "execution_count": 9,
   "id": "61c1351d",
   "metadata": {
    "pycharm": {
     "name": "#%%\n"
    }
   },
   "outputs": [
    {
     "data": {
      "text/plain": "0"
     },
     "execution_count": 9,
     "metadata": {},
     "output_type": "execute_result"
    }
   ],
   "source": [
    "df.isnull().sum().max()"
   ]
  },
  {
   "cell_type": "code",
   "execution_count": 10,
   "id": "235ed8c2",
   "metadata": {
    "pycharm": {
     "name": "#%%\n"
    }
   },
   "outputs": [
    {
     "data": {
      "text/plain": "   Year_Birth   Education Marital_Status   Income  Kidhome  Teenhome  \\\n0        1957  Graduation         Single  58138.0        0         0   \n1        1954  Graduation         Single  46344.0        1         1   \n2        1965  Graduation       Together  71613.0        0         0   \n3        1984  Graduation       Together  26646.0        1         0   \n4        1981         PhD        Married  58293.0        1         0   \n\n  Dt_Customer  Recency  MntWines  MntFruits  ...  NumWebVisitsMonth  \\\n0  04-09-2012       58       635         88  ...                  7   \n1  08-03-2014       38        11          1  ...                  5   \n2  21-08-2013       26       426         49  ...                  4   \n3  10-02-2014       26        11          4  ...                  6   \n4  19-01-2014       94       173         43  ...                  5   \n\n   AcceptedCmp3  AcceptedCmp4  AcceptedCmp5  AcceptedCmp1  AcceptedCmp2  \\\n0             0             0             0             0             0   \n1             0             0             0             0             0   \n2             0             0             0             0             0   \n3             0             0             0             0             0   \n4             0             0             0             0             0   \n\n   Complain  Z_CostContact  Z_Revenue  Response  \n0         0              3         11         1  \n1         0              3         11         0  \n2         0              3         11         0  \n3         0              3         11         0  \n4         0              3         11         0  \n\n[5 rows x 28 columns]",
      "text/html": "<div>\n<style scoped>\n    .dataframe tbody tr th:only-of-type {\n        vertical-align: middle;\n    }\n\n    .dataframe tbody tr th {\n        vertical-align: top;\n    }\n\n    .dataframe thead th {\n        text-align: right;\n    }\n</style>\n<table border=\"1\" class=\"dataframe\">\n  <thead>\n    <tr style=\"text-align: right;\">\n      <th></th>\n      <th>Year_Birth</th>\n      <th>Education</th>\n      <th>Marital_Status</th>\n      <th>Income</th>\n      <th>Kidhome</th>\n      <th>Teenhome</th>\n      <th>Dt_Customer</th>\n      <th>Recency</th>\n      <th>MntWines</th>\n      <th>MntFruits</th>\n      <th>...</th>\n      <th>NumWebVisitsMonth</th>\n      <th>AcceptedCmp3</th>\n      <th>AcceptedCmp4</th>\n      <th>AcceptedCmp5</th>\n      <th>AcceptedCmp1</th>\n      <th>AcceptedCmp2</th>\n      <th>Complain</th>\n      <th>Z_CostContact</th>\n      <th>Z_Revenue</th>\n      <th>Response</th>\n    </tr>\n  </thead>\n  <tbody>\n    <tr>\n      <th>0</th>\n      <td>1957</td>\n      <td>Graduation</td>\n      <td>Single</td>\n      <td>58138.0</td>\n      <td>0</td>\n      <td>0</td>\n      <td>04-09-2012</td>\n      <td>58</td>\n      <td>635</td>\n      <td>88</td>\n      <td>...</td>\n      <td>7</td>\n      <td>0</td>\n      <td>0</td>\n      <td>0</td>\n      <td>0</td>\n      <td>0</td>\n      <td>0</td>\n      <td>3</td>\n      <td>11</td>\n      <td>1</td>\n    </tr>\n    <tr>\n      <th>1</th>\n      <td>1954</td>\n      <td>Graduation</td>\n      <td>Single</td>\n      <td>46344.0</td>\n      <td>1</td>\n      <td>1</td>\n      <td>08-03-2014</td>\n      <td>38</td>\n      <td>11</td>\n      <td>1</td>\n      <td>...</td>\n      <td>5</td>\n      <td>0</td>\n      <td>0</td>\n      <td>0</td>\n      <td>0</td>\n      <td>0</td>\n      <td>0</td>\n      <td>3</td>\n      <td>11</td>\n      <td>0</td>\n    </tr>\n    <tr>\n      <th>2</th>\n      <td>1965</td>\n      <td>Graduation</td>\n      <td>Together</td>\n      <td>71613.0</td>\n      <td>0</td>\n      <td>0</td>\n      <td>21-08-2013</td>\n      <td>26</td>\n      <td>426</td>\n      <td>49</td>\n      <td>...</td>\n      <td>4</td>\n      <td>0</td>\n      <td>0</td>\n      <td>0</td>\n      <td>0</td>\n      <td>0</td>\n      <td>0</td>\n      <td>3</td>\n      <td>11</td>\n      <td>0</td>\n    </tr>\n    <tr>\n      <th>3</th>\n      <td>1984</td>\n      <td>Graduation</td>\n      <td>Together</td>\n      <td>26646.0</td>\n      <td>1</td>\n      <td>0</td>\n      <td>10-02-2014</td>\n      <td>26</td>\n      <td>11</td>\n      <td>4</td>\n      <td>...</td>\n      <td>6</td>\n      <td>0</td>\n      <td>0</td>\n      <td>0</td>\n      <td>0</td>\n      <td>0</td>\n      <td>0</td>\n      <td>3</td>\n      <td>11</td>\n      <td>0</td>\n    </tr>\n    <tr>\n      <th>4</th>\n      <td>1981</td>\n      <td>PhD</td>\n      <td>Married</td>\n      <td>58293.0</td>\n      <td>1</td>\n      <td>0</td>\n      <td>19-01-2014</td>\n      <td>94</td>\n      <td>173</td>\n      <td>43</td>\n      <td>...</td>\n      <td>5</td>\n      <td>0</td>\n      <td>0</td>\n      <td>0</td>\n      <td>0</td>\n      <td>0</td>\n      <td>0</td>\n      <td>3</td>\n      <td>11</td>\n      <td>0</td>\n    </tr>\n  </tbody>\n</table>\n<p>5 rows × 28 columns</p>\n</div>"
     },
     "execution_count": 10,
     "metadata": {},
     "output_type": "execute_result"
    }
   ],
   "source": [
    "df.head()"
   ]
  },
  {
   "cell_type": "code",
   "execution_count": 11,
   "id": "f5304dfc",
   "metadata": {
    "pycharm": {
     "name": "#%%\n"
    }
   },
   "outputs": [
    {
     "name": "stdout",
     "output_type": "stream",
     "text": [
      "<class 'pandas.core.frame.DataFrame'>\n",
      "RangeIndex: 2240 entries, 0 to 2239\n",
      "Data columns (total 28 columns):\n",
      " #   Column               Non-Null Count  Dtype  \n",
      "---  ------               --------------  -----  \n",
      " 0   Year_Birth           2240 non-null   int64  \n",
      " 1   Education            2240 non-null   object \n",
      " 2   Marital_Status       2240 non-null   object \n",
      " 3   Income               2240 non-null   float64\n",
      " 4   Kidhome              2240 non-null   int64  \n",
      " 5   Teenhome             2240 non-null   int64  \n",
      " 6   Dt_Customer          2240 non-null   object \n",
      " 7   Recency              2240 non-null   int64  \n",
      " 8   MntWines             2240 non-null   int64  \n",
      " 9   MntFruits            2240 non-null   int64  \n",
      " 10  MntMeatProducts      2240 non-null   int64  \n",
      " 11  MntFishProducts      2240 non-null   int64  \n",
      " 12  MntSweetProducts     2240 non-null   int64  \n",
      " 13  MntGoldProds         2240 non-null   int64  \n",
      " 14  NumDealsPurchases    2240 non-null   int64  \n",
      " 15  NumWebPurchases      2240 non-null   int64  \n",
      " 16  NumCatalogPurchases  2240 non-null   int64  \n",
      " 17  NumStorePurchases    2240 non-null   int64  \n",
      " 18  NumWebVisitsMonth    2240 non-null   int64  \n",
      " 19  AcceptedCmp3         2240 non-null   int64  \n",
      " 20  AcceptedCmp4         2240 non-null   int64  \n",
      " 21  AcceptedCmp5         2240 non-null   int64  \n",
      " 22  AcceptedCmp1         2240 non-null   int64  \n",
      " 23  AcceptedCmp2         2240 non-null   int64  \n",
      " 24  Complain             2240 non-null   int64  \n",
      " 25  Z_CostContact        2240 non-null   int64  \n",
      " 26  Z_Revenue            2240 non-null   int64  \n",
      " 27  Response             2240 non-null   int64  \n",
      "dtypes: float64(1), int64(24), object(3)\n",
      "memory usage: 490.1+ KB\n"
     ]
    }
   ],
   "source": [
    "df.info()"
   ]
  },
  {
   "cell_type": "code",
   "execution_count": 12,
   "id": "0f046e43",
   "metadata": {
    "pycharm": {
     "name": "#%%\n"
    }
   },
   "outputs": [
    {
     "data": {
      "text/plain": "        Year_Birth         Income      Kidhome     Teenhome      Recency  \\\ncount  2240.000000    2240.000000  2240.000000  2240.000000  2240.000000   \nmean   1968.805804   52237.975446     0.444196     0.506250    49.109375   \nstd      11.984069   25037.955891     0.538398     0.544538    28.962453   \nmin    1893.000000    1730.000000     0.000000     0.000000     0.000000   \n25%    1959.000000   35538.750000     0.000000     0.000000    24.000000   \n50%    1970.000000   51381.500000     0.000000     0.000000    49.000000   \n75%    1977.000000   68289.750000     1.000000     1.000000    74.000000   \nmax    1996.000000  666666.000000     2.000000     2.000000    99.000000   \n\n          MntWines    MntFruits  MntMeatProducts  MntFishProducts  \\\ncount  2240.000000  2240.000000      2240.000000      2240.000000   \nmean    303.935714    26.302232       166.950000        37.525446   \nstd     336.597393    39.773434       225.715373        54.628979   \nmin       0.000000     0.000000         0.000000         0.000000   \n25%      23.750000     1.000000        16.000000         3.000000   \n50%     173.500000     8.000000        67.000000        12.000000   \n75%     504.250000    33.000000       232.000000        50.000000   \nmax    1493.000000   199.000000      1725.000000       259.000000   \n\n       MntSweetProducts  ...  NumWebVisitsMonth  AcceptedCmp3  AcceptedCmp4  \\\ncount       2240.000000  ...        2240.000000   2240.000000   2240.000000   \nmean          27.062946  ...           5.316518      0.072768      0.074554   \nstd           41.280498  ...           2.426645      0.259813      0.262728   \nmin            0.000000  ...           0.000000      0.000000      0.000000   \n25%            1.000000  ...           3.000000      0.000000      0.000000   \n50%            8.000000  ...           6.000000      0.000000      0.000000   \n75%           33.000000  ...           7.000000      0.000000      0.000000   \nmax          263.000000  ...          20.000000      1.000000      1.000000   \n\n       AcceptedCmp5  AcceptedCmp1  AcceptedCmp2     Complain  Z_CostContact  \\\ncount   2240.000000   2240.000000   2240.000000  2240.000000         2240.0   \nmean       0.072768      0.064286      0.013393     0.009375            3.0   \nstd        0.259813      0.245316      0.114976     0.096391            0.0   \nmin        0.000000      0.000000      0.000000     0.000000            3.0   \n25%        0.000000      0.000000      0.000000     0.000000            3.0   \n50%        0.000000      0.000000      0.000000     0.000000            3.0   \n75%        0.000000      0.000000      0.000000     0.000000            3.0   \nmax        1.000000      1.000000      1.000000     1.000000            3.0   \n\n       Z_Revenue     Response  \ncount     2240.0  2240.000000  \nmean        11.0     0.149107  \nstd          0.0     0.356274  \nmin         11.0     0.000000  \n25%         11.0     0.000000  \n50%         11.0     0.000000  \n75%         11.0     0.000000  \nmax         11.0     1.000000  \n\n[8 rows x 25 columns]",
      "text/html": "<div>\n<style scoped>\n    .dataframe tbody tr th:only-of-type {\n        vertical-align: middle;\n    }\n\n    .dataframe tbody tr th {\n        vertical-align: top;\n    }\n\n    .dataframe thead th {\n        text-align: right;\n    }\n</style>\n<table border=\"1\" class=\"dataframe\">\n  <thead>\n    <tr style=\"text-align: right;\">\n      <th></th>\n      <th>Year_Birth</th>\n      <th>Income</th>\n      <th>Kidhome</th>\n      <th>Teenhome</th>\n      <th>Recency</th>\n      <th>MntWines</th>\n      <th>MntFruits</th>\n      <th>MntMeatProducts</th>\n      <th>MntFishProducts</th>\n      <th>MntSweetProducts</th>\n      <th>...</th>\n      <th>NumWebVisitsMonth</th>\n      <th>AcceptedCmp3</th>\n      <th>AcceptedCmp4</th>\n      <th>AcceptedCmp5</th>\n      <th>AcceptedCmp1</th>\n      <th>AcceptedCmp2</th>\n      <th>Complain</th>\n      <th>Z_CostContact</th>\n      <th>Z_Revenue</th>\n      <th>Response</th>\n    </tr>\n  </thead>\n  <tbody>\n    <tr>\n      <th>count</th>\n      <td>2240.000000</td>\n      <td>2240.000000</td>\n      <td>2240.000000</td>\n      <td>2240.000000</td>\n      <td>2240.000000</td>\n      <td>2240.000000</td>\n      <td>2240.000000</td>\n      <td>2240.000000</td>\n      <td>2240.000000</td>\n      <td>2240.000000</td>\n      <td>...</td>\n      <td>2240.000000</td>\n      <td>2240.000000</td>\n      <td>2240.000000</td>\n      <td>2240.000000</td>\n      <td>2240.000000</td>\n      <td>2240.000000</td>\n      <td>2240.000000</td>\n      <td>2240.0</td>\n      <td>2240.0</td>\n      <td>2240.000000</td>\n    </tr>\n    <tr>\n      <th>mean</th>\n      <td>1968.805804</td>\n      <td>52237.975446</td>\n      <td>0.444196</td>\n      <td>0.506250</td>\n      <td>49.109375</td>\n      <td>303.935714</td>\n      <td>26.302232</td>\n      <td>166.950000</td>\n      <td>37.525446</td>\n      <td>27.062946</td>\n      <td>...</td>\n      <td>5.316518</td>\n      <td>0.072768</td>\n      <td>0.074554</td>\n      <td>0.072768</td>\n      <td>0.064286</td>\n      <td>0.013393</td>\n      <td>0.009375</td>\n      <td>3.0</td>\n      <td>11.0</td>\n      <td>0.149107</td>\n    </tr>\n    <tr>\n      <th>std</th>\n      <td>11.984069</td>\n      <td>25037.955891</td>\n      <td>0.538398</td>\n      <td>0.544538</td>\n      <td>28.962453</td>\n      <td>336.597393</td>\n      <td>39.773434</td>\n      <td>225.715373</td>\n      <td>54.628979</td>\n      <td>41.280498</td>\n      <td>...</td>\n      <td>2.426645</td>\n      <td>0.259813</td>\n      <td>0.262728</td>\n      <td>0.259813</td>\n      <td>0.245316</td>\n      <td>0.114976</td>\n      <td>0.096391</td>\n      <td>0.0</td>\n      <td>0.0</td>\n      <td>0.356274</td>\n    </tr>\n    <tr>\n      <th>min</th>\n      <td>1893.000000</td>\n      <td>1730.000000</td>\n      <td>0.000000</td>\n      <td>0.000000</td>\n      <td>0.000000</td>\n      <td>0.000000</td>\n      <td>0.000000</td>\n      <td>0.000000</td>\n      <td>0.000000</td>\n      <td>0.000000</td>\n      <td>...</td>\n      <td>0.000000</td>\n      <td>0.000000</td>\n      <td>0.000000</td>\n      <td>0.000000</td>\n      <td>0.000000</td>\n      <td>0.000000</td>\n      <td>0.000000</td>\n      <td>3.0</td>\n      <td>11.0</td>\n      <td>0.000000</td>\n    </tr>\n    <tr>\n      <th>25%</th>\n      <td>1959.000000</td>\n      <td>35538.750000</td>\n      <td>0.000000</td>\n      <td>0.000000</td>\n      <td>24.000000</td>\n      <td>23.750000</td>\n      <td>1.000000</td>\n      <td>16.000000</td>\n      <td>3.000000</td>\n      <td>1.000000</td>\n      <td>...</td>\n      <td>3.000000</td>\n      <td>0.000000</td>\n      <td>0.000000</td>\n      <td>0.000000</td>\n      <td>0.000000</td>\n      <td>0.000000</td>\n      <td>0.000000</td>\n      <td>3.0</td>\n      <td>11.0</td>\n      <td>0.000000</td>\n    </tr>\n    <tr>\n      <th>50%</th>\n      <td>1970.000000</td>\n      <td>51381.500000</td>\n      <td>0.000000</td>\n      <td>0.000000</td>\n      <td>49.000000</td>\n      <td>173.500000</td>\n      <td>8.000000</td>\n      <td>67.000000</td>\n      <td>12.000000</td>\n      <td>8.000000</td>\n      <td>...</td>\n      <td>6.000000</td>\n      <td>0.000000</td>\n      <td>0.000000</td>\n      <td>0.000000</td>\n      <td>0.000000</td>\n      <td>0.000000</td>\n      <td>0.000000</td>\n      <td>3.0</td>\n      <td>11.0</td>\n      <td>0.000000</td>\n    </tr>\n    <tr>\n      <th>75%</th>\n      <td>1977.000000</td>\n      <td>68289.750000</td>\n      <td>1.000000</td>\n      <td>1.000000</td>\n      <td>74.000000</td>\n      <td>504.250000</td>\n      <td>33.000000</td>\n      <td>232.000000</td>\n      <td>50.000000</td>\n      <td>33.000000</td>\n      <td>...</td>\n      <td>7.000000</td>\n      <td>0.000000</td>\n      <td>0.000000</td>\n      <td>0.000000</td>\n      <td>0.000000</td>\n      <td>0.000000</td>\n      <td>0.000000</td>\n      <td>3.0</td>\n      <td>11.0</td>\n      <td>0.000000</td>\n    </tr>\n    <tr>\n      <th>max</th>\n      <td>1996.000000</td>\n      <td>666666.000000</td>\n      <td>2.000000</td>\n      <td>2.000000</td>\n      <td>99.000000</td>\n      <td>1493.000000</td>\n      <td>199.000000</td>\n      <td>1725.000000</td>\n      <td>259.000000</td>\n      <td>263.000000</td>\n      <td>...</td>\n      <td>20.000000</td>\n      <td>1.000000</td>\n      <td>1.000000</td>\n      <td>1.000000</td>\n      <td>1.000000</td>\n      <td>1.000000</td>\n      <td>1.000000</td>\n      <td>3.0</td>\n      <td>11.0</td>\n      <td>1.000000</td>\n    </tr>\n  </tbody>\n</table>\n<p>8 rows × 25 columns</p>\n</div>"
     },
     "execution_count": 12,
     "metadata": {},
     "output_type": "execute_result"
    }
   ],
   "source": [
    "df.describe()"
   ]
  },
  {
   "cell_type": "code",
   "execution_count": 13,
   "id": "722d80e4",
   "metadata": {
    "pycharm": {
     "name": "#%%\n"
    }
   },
   "outputs": [],
   "source": [
    "df['Age'] = 2022-df['Year_Birth']"
   ]
  },
  {
   "cell_type": "code",
   "execution_count": 14,
   "id": "acffc022",
   "metadata": {
    "pycharm": {
     "name": "#%%\n"
    }
   },
   "outputs": [],
   "source": [
    "df.drop('Year_Birth', axis=1, inplace=True)"
   ]
  },
  {
   "cell_type": "code",
   "execution_count": 15,
   "id": "97401f4e",
   "metadata": {
    "pycharm": {
     "name": "#%%\n"
    }
   },
   "outputs": [
    {
     "data": {
      "text/plain": "array(['Graduation', 'PhD', 'Master', 'Basic', '2n Cycle'], dtype=object)"
     },
     "execution_count": 15,
     "metadata": {},
     "output_type": "execute_result"
    }
   ],
   "source": [
    "df['Education'].unique()"
   ]
  },
  {
   "cell_type": "code",
   "execution_count": 16,
   "id": "6c8bf6bf",
   "metadata": {
    "pycharm": {
     "name": "#%%\n"
    }
   },
   "outputs": [],
   "source": [
    "df['Education'] = df['Education'].str.replace('2n Cycle', 'Master')\n",
    "df['Education'] = df['Education'].replace('Graduation','Graduate')"
   ]
  },
  {
   "cell_type": "code",
   "execution_count": 17,
   "id": "d0624e6e",
   "metadata": {
    "pycharm": {
     "name": "#%%\n"
    }
   },
   "outputs": [
    {
     "data": {
      "text/plain": "array(['Single', 'Together', 'Married', 'Divorced', 'Widow', 'Alone',\n       'Absurd', 'YOLO'], dtype=object)"
     },
     "execution_count": 17,
     "metadata": {},
     "output_type": "execute_result"
    }
   ],
   "source": [
    "df['Marital_Status'].unique()"
   ]
  },
  {
   "cell_type": "code",
   "execution_count": 18,
   "id": "e5f590c6",
   "metadata": {
    "pycharm": {
     "name": "#%%\n"
    }
   },
   "outputs": [],
   "source": [
    "df['Marital_Status']=df['Marital_Status'].replace(['Divorced','Widow','Alone','Absurd','YOLO'], 'Single')"
   ]
  },
  {
   "cell_type": "code",
   "execution_count": 19,
   "id": "73f988ad",
   "metadata": {
    "pycharm": {
     "name": "#%%\n"
    }
   },
   "outputs": [],
   "source": [
    "df['Marital_Status']=df['Marital_Status'].replace('Married','Together')"
   ]
  },
  {
   "cell_type": "code",
   "execution_count": 20,
   "id": "4f930719",
   "metadata": {
    "pycharm": {
     "name": "#%%\n"
    }
   },
   "outputs": [
    {
     "data": {
      "text/plain": "array(['Single', 'Together'], dtype=object)"
     },
     "execution_count": 20,
     "metadata": {},
     "output_type": "execute_result"
    }
   ],
   "source": [
    "df['Marital_Status'].unique()"
   ]
  },
  {
   "cell_type": "code",
   "execution_count": 21,
   "id": "a60faf12",
   "metadata": {
    "pycharm": {
     "name": "#%%\n"
    }
   },
   "outputs": [],
   "source": [
    "df['children'] = df['Kidhome']+df['Teenhome']"
   ]
  },
  {
   "cell_type": "code",
   "execution_count": 22,
   "id": "8354ba0d",
   "metadata": {
    "pycharm": {
     "name": "#%%\n"
    }
   },
   "outputs": [],
   "source": [
    "df.drop(['Kidhome','Teenhome'],axis=1, inplace=True)"
   ]
  },
  {
   "cell_type": "code",
   "execution_count": 23,
   "id": "950d4dea",
   "metadata": {
    "pycharm": {
     "name": "#%%\n"
    }
   },
   "outputs": [
    {
     "data": {
      "text/plain": "  Education Marital_Status   Income Dt_Customer  Recency  MntWines  MntFruits  \\\n0  Graduate         Single  58138.0  04-09-2012       58       635         88   \n1  Graduate         Single  46344.0  08-03-2014       38        11          1   \n2  Graduate       Together  71613.0  21-08-2013       26       426         49   \n3  Graduate       Together  26646.0  10-02-2014       26        11          4   \n4       PhD       Together  58293.0  19-01-2014       94       173         43   \n\n   MntMeatProducts  MntFishProducts  MntSweetProducts  ...  AcceptedCmp4  \\\n0              546              172                88  ...             0   \n1                6                2                 1  ...             0   \n2              127              111                21  ...             0   \n3               20               10                 3  ...             0   \n4              118               46                27  ...             0   \n\n   AcceptedCmp5  AcceptedCmp1  AcceptedCmp2  Complain  Z_CostContact  \\\n0             0             0             0         0              3   \n1             0             0             0         0              3   \n2             0             0             0         0              3   \n3             0             0             0         0              3   \n4             0             0             0         0              3   \n\n   Z_Revenue  Response  Age  children  \n0         11         1   65         0  \n1         11         0   68         2  \n2         11         0   57         0  \n3         11         0   38         1  \n4         11         0   41         1  \n\n[5 rows x 27 columns]",
      "text/html": "<div>\n<style scoped>\n    .dataframe tbody tr th:only-of-type {\n        vertical-align: middle;\n    }\n\n    .dataframe tbody tr th {\n        vertical-align: top;\n    }\n\n    .dataframe thead th {\n        text-align: right;\n    }\n</style>\n<table border=\"1\" class=\"dataframe\">\n  <thead>\n    <tr style=\"text-align: right;\">\n      <th></th>\n      <th>Education</th>\n      <th>Marital_Status</th>\n      <th>Income</th>\n      <th>Dt_Customer</th>\n      <th>Recency</th>\n      <th>MntWines</th>\n      <th>MntFruits</th>\n      <th>MntMeatProducts</th>\n      <th>MntFishProducts</th>\n      <th>MntSweetProducts</th>\n      <th>...</th>\n      <th>AcceptedCmp4</th>\n      <th>AcceptedCmp5</th>\n      <th>AcceptedCmp1</th>\n      <th>AcceptedCmp2</th>\n      <th>Complain</th>\n      <th>Z_CostContact</th>\n      <th>Z_Revenue</th>\n      <th>Response</th>\n      <th>Age</th>\n      <th>children</th>\n    </tr>\n  </thead>\n  <tbody>\n    <tr>\n      <th>0</th>\n      <td>Graduate</td>\n      <td>Single</td>\n      <td>58138.0</td>\n      <td>04-09-2012</td>\n      <td>58</td>\n      <td>635</td>\n      <td>88</td>\n      <td>546</td>\n      <td>172</td>\n      <td>88</td>\n      <td>...</td>\n      <td>0</td>\n      <td>0</td>\n      <td>0</td>\n      <td>0</td>\n      <td>0</td>\n      <td>3</td>\n      <td>11</td>\n      <td>1</td>\n      <td>65</td>\n      <td>0</td>\n    </tr>\n    <tr>\n      <th>1</th>\n      <td>Graduate</td>\n      <td>Single</td>\n      <td>46344.0</td>\n      <td>08-03-2014</td>\n      <td>38</td>\n      <td>11</td>\n      <td>1</td>\n      <td>6</td>\n      <td>2</td>\n      <td>1</td>\n      <td>...</td>\n      <td>0</td>\n      <td>0</td>\n      <td>0</td>\n      <td>0</td>\n      <td>0</td>\n      <td>3</td>\n      <td>11</td>\n      <td>0</td>\n      <td>68</td>\n      <td>2</td>\n    </tr>\n    <tr>\n      <th>2</th>\n      <td>Graduate</td>\n      <td>Together</td>\n      <td>71613.0</td>\n      <td>21-08-2013</td>\n      <td>26</td>\n      <td>426</td>\n      <td>49</td>\n      <td>127</td>\n      <td>111</td>\n      <td>21</td>\n      <td>...</td>\n      <td>0</td>\n      <td>0</td>\n      <td>0</td>\n      <td>0</td>\n      <td>0</td>\n      <td>3</td>\n      <td>11</td>\n      <td>0</td>\n      <td>57</td>\n      <td>0</td>\n    </tr>\n    <tr>\n      <th>3</th>\n      <td>Graduate</td>\n      <td>Together</td>\n      <td>26646.0</td>\n      <td>10-02-2014</td>\n      <td>26</td>\n      <td>11</td>\n      <td>4</td>\n      <td>20</td>\n      <td>10</td>\n      <td>3</td>\n      <td>...</td>\n      <td>0</td>\n      <td>0</td>\n      <td>0</td>\n      <td>0</td>\n      <td>0</td>\n      <td>3</td>\n      <td>11</td>\n      <td>0</td>\n      <td>38</td>\n      <td>1</td>\n    </tr>\n    <tr>\n      <th>4</th>\n      <td>PhD</td>\n      <td>Together</td>\n      <td>58293.0</td>\n      <td>19-01-2014</td>\n      <td>94</td>\n      <td>173</td>\n      <td>43</td>\n      <td>118</td>\n      <td>46</td>\n      <td>27</td>\n      <td>...</td>\n      <td>0</td>\n      <td>0</td>\n      <td>0</td>\n      <td>0</td>\n      <td>0</td>\n      <td>3</td>\n      <td>11</td>\n      <td>0</td>\n      <td>41</td>\n      <td>1</td>\n    </tr>\n  </tbody>\n</table>\n<p>5 rows × 27 columns</p>\n</div>"
     },
     "execution_count": 23,
     "metadata": {},
     "output_type": "execute_result"
    }
   ],
   "source": [
    "df.head()"
   ]
  },
  {
   "cell_type": "code",
   "execution_count": 24,
   "id": "d87d3071",
   "metadata": {
    "pycharm": {
     "name": "#%%\n"
    }
   },
   "outputs": [],
   "source": [
    "df['Yr_Customer_enroled']=pd.DatetimeIndex(df['Dt_Customer']).year"
   ]
  },
  {
   "cell_type": "code",
   "execution_count": 25,
   "id": "ddecf1f5",
   "metadata": {
    "pycharm": {
     "name": "#%%\n"
    }
   },
   "outputs": [],
   "source": [
    "df['Yr_Customer_enroled'] = 2022-df['Yr_Customer_enroled']"
   ]
  },
  {
   "cell_type": "code",
   "execution_count": 26,
   "id": "34aee019",
   "metadata": {
    "pycharm": {
     "name": "#%%\n"
    }
   },
   "outputs": [],
   "source": [
    "df.drop('Dt_Customer',axis=1,inplace=True)"
   ]
  },
  {
   "cell_type": "code",
   "execution_count": 27,
   "id": "88dcf80f",
   "metadata": {
    "pycharm": {
     "name": "#%%\n"
    }
   },
   "outputs": [
    {
     "data": {
      "text/plain": "  Education Marital_Status   Income  Recency  MntWines  MntFruits  \\\n0  Graduate         Single  58138.0       58       635         88   \n1  Graduate         Single  46344.0       38        11          1   \n2  Graduate       Together  71613.0       26       426         49   \n3  Graduate       Together  26646.0       26        11          4   \n4       PhD       Together  58293.0       94       173         43   \n\n   MntMeatProducts  MntFishProducts  MntSweetProducts  MntGoldProds  ...  \\\n0              546              172                88            88  ...   \n1                6                2                 1             6  ...   \n2              127              111                21            42  ...   \n3               20               10                 3             5  ...   \n4              118               46                27            15  ...   \n\n   AcceptedCmp5  AcceptedCmp1  AcceptedCmp2  Complain  Z_CostContact  \\\n0             0             0             0         0              3   \n1             0             0             0         0              3   \n2             0             0             0         0              3   \n3             0             0             0         0              3   \n4             0             0             0         0              3   \n\n   Z_Revenue  Response  Age  children  Yr_Customer_enroled  \n0         11         1   65         0                   10  \n1         11         0   68         2                    8  \n2         11         0   57         0                    9  \n3         11         0   38         1                    8  \n4         11         0   41         1                    8  \n\n[5 rows x 27 columns]",
      "text/html": "<div>\n<style scoped>\n    .dataframe tbody tr th:only-of-type {\n        vertical-align: middle;\n    }\n\n    .dataframe tbody tr th {\n        vertical-align: top;\n    }\n\n    .dataframe thead th {\n        text-align: right;\n    }\n</style>\n<table border=\"1\" class=\"dataframe\">\n  <thead>\n    <tr style=\"text-align: right;\">\n      <th></th>\n      <th>Education</th>\n      <th>Marital_Status</th>\n      <th>Income</th>\n      <th>Recency</th>\n      <th>MntWines</th>\n      <th>MntFruits</th>\n      <th>MntMeatProducts</th>\n      <th>MntFishProducts</th>\n      <th>MntSweetProducts</th>\n      <th>MntGoldProds</th>\n      <th>...</th>\n      <th>AcceptedCmp5</th>\n      <th>AcceptedCmp1</th>\n      <th>AcceptedCmp2</th>\n      <th>Complain</th>\n      <th>Z_CostContact</th>\n      <th>Z_Revenue</th>\n      <th>Response</th>\n      <th>Age</th>\n      <th>children</th>\n      <th>Yr_Customer_enroled</th>\n    </tr>\n  </thead>\n  <tbody>\n    <tr>\n      <th>0</th>\n      <td>Graduate</td>\n      <td>Single</td>\n      <td>58138.0</td>\n      <td>58</td>\n      <td>635</td>\n      <td>88</td>\n      <td>546</td>\n      <td>172</td>\n      <td>88</td>\n      <td>88</td>\n      <td>...</td>\n      <td>0</td>\n      <td>0</td>\n      <td>0</td>\n      <td>0</td>\n      <td>3</td>\n      <td>11</td>\n      <td>1</td>\n      <td>65</td>\n      <td>0</td>\n      <td>10</td>\n    </tr>\n    <tr>\n      <th>1</th>\n      <td>Graduate</td>\n      <td>Single</td>\n      <td>46344.0</td>\n      <td>38</td>\n      <td>11</td>\n      <td>1</td>\n      <td>6</td>\n      <td>2</td>\n      <td>1</td>\n      <td>6</td>\n      <td>...</td>\n      <td>0</td>\n      <td>0</td>\n      <td>0</td>\n      <td>0</td>\n      <td>3</td>\n      <td>11</td>\n      <td>0</td>\n      <td>68</td>\n      <td>2</td>\n      <td>8</td>\n    </tr>\n    <tr>\n      <th>2</th>\n      <td>Graduate</td>\n      <td>Together</td>\n      <td>71613.0</td>\n      <td>26</td>\n      <td>426</td>\n      <td>49</td>\n      <td>127</td>\n      <td>111</td>\n      <td>21</td>\n      <td>42</td>\n      <td>...</td>\n      <td>0</td>\n      <td>0</td>\n      <td>0</td>\n      <td>0</td>\n      <td>3</td>\n      <td>11</td>\n      <td>0</td>\n      <td>57</td>\n      <td>0</td>\n      <td>9</td>\n    </tr>\n    <tr>\n      <th>3</th>\n      <td>Graduate</td>\n      <td>Together</td>\n      <td>26646.0</td>\n      <td>26</td>\n      <td>11</td>\n      <td>4</td>\n      <td>20</td>\n      <td>10</td>\n      <td>3</td>\n      <td>5</td>\n      <td>...</td>\n      <td>0</td>\n      <td>0</td>\n      <td>0</td>\n      <td>0</td>\n      <td>3</td>\n      <td>11</td>\n      <td>0</td>\n      <td>38</td>\n      <td>1</td>\n      <td>8</td>\n    </tr>\n    <tr>\n      <th>4</th>\n      <td>PhD</td>\n      <td>Together</td>\n      <td>58293.0</td>\n      <td>94</td>\n      <td>173</td>\n      <td>43</td>\n      <td>118</td>\n      <td>46</td>\n      <td>27</td>\n      <td>15</td>\n      <td>...</td>\n      <td>0</td>\n      <td>0</td>\n      <td>0</td>\n      <td>0</td>\n      <td>3</td>\n      <td>11</td>\n      <td>0</td>\n      <td>41</td>\n      <td>1</td>\n      <td>8</td>\n    </tr>\n  </tbody>\n</table>\n<p>5 rows × 27 columns</p>\n</div>"
     },
     "execution_count": 27,
     "metadata": {},
     "output_type": "execute_result"
    }
   ],
   "source": [
    "df.head()"
   ]
  },
  {
   "cell_type": "code",
   "execution_count": 28,
   "id": "c51447c3",
   "metadata": {
    "pycharm": {
     "name": "#%%\n"
    }
   },
   "outputs": [],
   "source": [
    "df[\"Spent\"]=df[\"MntWines\"]+df[\"MntFruits\"]+df[\"MntMeatProducts\"]+df[\"MntFishProducts\"]+df[\"MntSweetProducts\"]+df[\"MntGoldProds\"]"
   ]
  },
  {
   "cell_type": "code",
   "execution_count": 29,
   "id": "d307eb2d",
   "metadata": {
    "pycharm": {
     "name": "#%%\n"
    }
   },
   "outputs": [],
   "source": [
    "df=df.rename(columns={\"MntWines\": \"Wines\",\"MntFruits\":\"Fruits\",\"MntMeatProducts\":\"Meat\",\"MntFishProducts\":\"Fish\",\"MntSweetProducts\":\"Sweets\",\"MntGoldProds\":\"Gold\"})"
   ]
  },
  {
   "cell_type": "code",
   "execution_count": 30,
   "id": "cc8cc945",
   "metadata": {
    "pycharm": {
     "name": "#%%\n"
    }
   },
   "outputs": [
    {
     "data": {
      "text/plain": "  Education Marital_Status   Income  Recency  Wines  Fruits  Meat  Fish  \\\n0  Graduate         Single  58138.0       58    635      88   546   172   \n1  Graduate         Single  46344.0       38     11       1     6     2   \n2  Graduate       Together  71613.0       26    426      49   127   111   \n3  Graduate       Together  26646.0       26     11       4    20    10   \n4       PhD       Together  58293.0       94    173      43   118    46   \n\n   Sweets  Gold  ...  AcceptedCmp1  AcceptedCmp2  Complain  Z_CostContact  \\\n0      88    88  ...             0             0         0              3   \n1       1     6  ...             0             0         0              3   \n2      21    42  ...             0             0         0              3   \n3       3     5  ...             0             0         0              3   \n4      27    15  ...             0             0         0              3   \n\n   Z_Revenue  Response  Age  children  Yr_Customer_enroled  Spent  \n0         11         1   65         0                   10   1617  \n1         11         0   68         2                    8     27  \n2         11         0   57         0                    9    776  \n3         11         0   38         1                    8     53  \n4         11         0   41         1                    8    422  \n\n[5 rows x 28 columns]",
      "text/html": "<div>\n<style scoped>\n    .dataframe tbody tr th:only-of-type {\n        vertical-align: middle;\n    }\n\n    .dataframe tbody tr th {\n        vertical-align: top;\n    }\n\n    .dataframe thead th {\n        text-align: right;\n    }\n</style>\n<table border=\"1\" class=\"dataframe\">\n  <thead>\n    <tr style=\"text-align: right;\">\n      <th></th>\n      <th>Education</th>\n      <th>Marital_Status</th>\n      <th>Income</th>\n      <th>Recency</th>\n      <th>Wines</th>\n      <th>Fruits</th>\n      <th>Meat</th>\n      <th>Fish</th>\n      <th>Sweets</th>\n      <th>Gold</th>\n      <th>...</th>\n      <th>AcceptedCmp1</th>\n      <th>AcceptedCmp2</th>\n      <th>Complain</th>\n      <th>Z_CostContact</th>\n      <th>Z_Revenue</th>\n      <th>Response</th>\n      <th>Age</th>\n      <th>children</th>\n      <th>Yr_Customer_enroled</th>\n      <th>Spent</th>\n    </tr>\n  </thead>\n  <tbody>\n    <tr>\n      <th>0</th>\n      <td>Graduate</td>\n      <td>Single</td>\n      <td>58138.0</td>\n      <td>58</td>\n      <td>635</td>\n      <td>88</td>\n      <td>546</td>\n      <td>172</td>\n      <td>88</td>\n      <td>88</td>\n      <td>...</td>\n      <td>0</td>\n      <td>0</td>\n      <td>0</td>\n      <td>3</td>\n      <td>11</td>\n      <td>1</td>\n      <td>65</td>\n      <td>0</td>\n      <td>10</td>\n      <td>1617</td>\n    </tr>\n    <tr>\n      <th>1</th>\n      <td>Graduate</td>\n      <td>Single</td>\n      <td>46344.0</td>\n      <td>38</td>\n      <td>11</td>\n      <td>1</td>\n      <td>6</td>\n      <td>2</td>\n      <td>1</td>\n      <td>6</td>\n      <td>...</td>\n      <td>0</td>\n      <td>0</td>\n      <td>0</td>\n      <td>3</td>\n      <td>11</td>\n      <td>0</td>\n      <td>68</td>\n      <td>2</td>\n      <td>8</td>\n      <td>27</td>\n    </tr>\n    <tr>\n      <th>2</th>\n      <td>Graduate</td>\n      <td>Together</td>\n      <td>71613.0</td>\n      <td>26</td>\n      <td>426</td>\n      <td>49</td>\n      <td>127</td>\n      <td>111</td>\n      <td>21</td>\n      <td>42</td>\n      <td>...</td>\n      <td>0</td>\n      <td>0</td>\n      <td>0</td>\n      <td>3</td>\n      <td>11</td>\n      <td>0</td>\n      <td>57</td>\n      <td>0</td>\n      <td>9</td>\n      <td>776</td>\n    </tr>\n    <tr>\n      <th>3</th>\n      <td>Graduate</td>\n      <td>Together</td>\n      <td>26646.0</td>\n      <td>26</td>\n      <td>11</td>\n      <td>4</td>\n      <td>20</td>\n      <td>10</td>\n      <td>3</td>\n      <td>5</td>\n      <td>...</td>\n      <td>0</td>\n      <td>0</td>\n      <td>0</td>\n      <td>3</td>\n      <td>11</td>\n      <td>0</td>\n      <td>38</td>\n      <td>1</td>\n      <td>8</td>\n      <td>53</td>\n    </tr>\n    <tr>\n      <th>4</th>\n      <td>PhD</td>\n      <td>Together</td>\n      <td>58293.0</td>\n      <td>94</td>\n      <td>173</td>\n      <td>43</td>\n      <td>118</td>\n      <td>46</td>\n      <td>27</td>\n      <td>15</td>\n      <td>...</td>\n      <td>0</td>\n      <td>0</td>\n      <td>0</td>\n      <td>3</td>\n      <td>11</td>\n      <td>0</td>\n      <td>41</td>\n      <td>1</td>\n      <td>8</td>\n      <td>422</td>\n    </tr>\n  </tbody>\n</table>\n<p>5 rows × 28 columns</p>\n</div>"
     },
     "execution_count": 30,
     "metadata": {},
     "output_type": "execute_result"
    }
   ],
   "source": [
    "df.head()"
   ]
  },
  {
   "cell_type": "code",
   "execution_count": 31,
   "id": "7aedacb1",
   "metadata": {
    "pycharm": {
     "name": "#%%\n"
    }
   },
   "outputs": [],
   "source": [
    "df.drop(['Z_CostContact','Z_Revenue'], axis=1, inplace=True)"
   ]
  },
  {
   "cell_type": "code",
   "execution_count": 32,
   "id": "7ba1c952",
   "metadata": {
    "pycharm": {
     "name": "#%%\n"
    }
   },
   "outputs": [
    {
     "data": {
      "text/plain": "(array([1.678e+03, 5.540e+02, 7.000e+00, 0.000e+00, 0.000e+00, 0.000e+00,\n        0.000e+00, 0.000e+00, 0.000e+00, 1.000e+00]),\n array([  1730. ,  68223.6, 134717.2, 201210.8, 267704.4, 334198. ,\n        400691.6, 467185.2, 533678.8, 600172.4, 666666. ]),\n <BarContainer object of 10 artists>)"
     },
     "execution_count": 32,
     "metadata": {},
     "output_type": "execute_result"
    },
    {
     "data": {
      "text/plain": "<Figure size 432x288 with 1 Axes>",
      "image/png": "[encoded data removed]"
     },
     "metadata": {
      "needs_background": "light"
     },
     "output_type": "display_data"
    }
   ],
   "source": [
    "plt.hist(df['Income'])"
   ]
  },
  {
   "cell_type": "code",
   "execution_count": 33,
   "id": "c97ca1e6",
   "metadata": {
    "pycharm": {
     "name": "#%%\n"
    }
   },
   "outputs": [
    {
     "data": {
      "text/plain": "8"
     },
     "execution_count": 33,
     "metadata": {},
     "output_type": "execute_result"
    }
   ],
   "source": [
    "len(df[df['Income']>120000])"
   ]
  },
  {
   "cell_type": "code",
   "execution_count": 34,
   "id": "97e36ae8",
   "metadata": {
    "pycharm": {
     "name": "#%%\n"
    }
   },
   "outputs": [],
   "source": [
    "df = df[df['Income']<120000]"
   ]
  },
  {
   "cell_type": "code",
   "execution_count": 35,
   "id": "72d3b709",
   "metadata": {
    "pycharm": {
     "name": "#%%\n"
    }
   },
   "outputs": [
    {
     "data": {
      "text/plain": "(array([ 37., 185., 333., 399., 375., 367., 331., 174.,  28.,   3.]),\n array([  1730. ,  12930.4,  24130.8,  35331.2,  46531.6,  57732. ,\n         68932.4,  80132.8,  91333.2, 102533.6, 113734. ]),\n <BarContainer object of 10 artists>)"
     },
     "execution_count": 35,
     "metadata": {},
     "output_type": "execute_result"
    },
    {
     "data": {
      "text/plain": "<Figure size 432x288 with 1 Axes>",
      "image/png": "[encoded data removed]"
     },
     "metadata": {
      "needs_background": "light"
     },
     "output_type": "display_data"
    }
   ],
   "source": [
    "plt.hist(df['Income'])"
   ]
  },
  {
   "cell_type": "code",
   "execution_count": 36,
   "id": "a243aa37",
   "metadata": {
    "pycharm": {
     "name": "#%%\n"
    }
   },
   "outputs": [
    {
     "data": {
      "text/plain": "(2232, 26)"
     },
     "execution_count": 36,
     "metadata": {},
     "output_type": "execute_result"
    }
   ],
   "source": [
    "df.shape"
   ]
  },
  {
   "cell_type": "code",
   "execution_count": 37,
   "id": "44785cef",
   "metadata": {
    "pycharm": {
     "name": "#%%\n"
    }
   },
   "outputs": [
    {
     "data": {
      "text/plain": "(array([189., 502., 682., 541., 299.,  16.,   0.,   0.,   0.,   3.]),\n array([ 26. ,  36.3,  46.6,  56.9,  67.2,  77.5,  87.8,  98.1, 108.4,\n        118.7, 129. ]),\n <BarContainer object of 10 artists>)"
     },
     "execution_count": 37,
     "metadata": {},
     "output_type": "execute_result"
    },
    {
     "data": {
      "text/plain": "<Figure size 432x288 with 1 Axes>",
      "image/png": "[encoded data removed]"
     },
     "metadata": {
      "needs_background": "light"
     },
     "output_type": "display_data"
    }
   ],
   "source": [
    "plt.hist(df['Age'])"
   ]
  },
  {
   "cell_type": "code",
   "execution_count": 38,
   "id": "25ec1980",
   "metadata": {
    "pycharm": {
     "name": "#%%\n"
    }
   },
   "outputs": [],
   "source": [
    "df = df[(df[\"Age\"]<90)]"
   ]
  },
  {
   "cell_type": "code",
   "execution_count": 39,
   "id": "e0af4fe5",
   "metadata": {
    "pycharm": {
     "name": "#%%\n"
    }
   },
   "outputs": [
    {
     "data": {
      "text/plain": "  Education Marital_Status   Income  Recency  Wines  Fruits  Meat  Fish  \\\n0  Graduate         Single  58138.0       58    635      88   546   172   \n1  Graduate         Single  46344.0       38     11       1     6     2   \n2  Graduate       Together  71613.0       26    426      49   127   111   \n3  Graduate       Together  26646.0       26     11       4    20    10   \n4       PhD       Together  58293.0       94    173      43   118    46   \n\n   Sweets  Gold  ...  AcceptedCmp4  AcceptedCmp5  AcceptedCmp1  AcceptedCmp2  \\\n0      88    88  ...             0             0             0             0   \n1       1     6  ...             0             0             0             0   \n2      21    42  ...             0             0             0             0   \n3       3     5  ...             0             0             0             0   \n4      27    15  ...             0             0             0             0   \n\n   Complain  Response  Age  children  Yr_Customer_enroled  Spent  \n0         0         1   65         0                   10   1617  \n1         0         0   68         2                    8     27  \n2         0         0   57         0                    9    776  \n3         0         0   38         1                    8     53  \n4         0         0   41         1                    8    422  \n\n[5 rows x 26 columns]",
      "text/html": "<div>\n<style scoped>\n    .dataframe tbody tr th:only-of-type {\n        vertical-align: middle;\n    }\n\n    .dataframe tbody tr th {\n        vertical-align: top;\n    }\n\n    .dataframe thead th {\n        text-align: right;\n    }\n</style>\n<table border=\"1\" class=\"dataframe\">\n  <thead>\n    <tr style=\"text-align: right;\">\n      <th></th>\n      <th>Education</th>\n      <th>Marital_Status</th>\n      <th>Income</th>\n      <th>Recency</th>\n      <th>Wines</th>\n      <th>Fruits</th>\n      <th>Meat</th>\n      <th>Fish</th>\n      <th>Sweets</th>\n      <th>Gold</th>\n      <th>...</th>\n      <th>AcceptedCmp4</th>\n      <th>AcceptedCmp5</th>\n      <th>AcceptedCmp1</th>\n      <th>AcceptedCmp2</th>\n      <th>Complain</th>\n      <th>Response</th>\n      <th>Age</th>\n      <th>children</th>\n      <th>Yr_Customer_enroled</th>\n      <th>Spent</th>\n    </tr>\n  </thead>\n  <tbody>\n    <tr>\n      <th>0</th>\n      <td>Graduate</td>\n      <td>Single</td>\n      <td>58138.0</td>\n      <td>58</td>\n      <td>635</td>\n      <td>88</td>\n      <td>546</td>\n      <td>172</td>\n      <td>88</td>\n      <td>88</td>\n      <td>...</td>\n      <td>0</td>\n      <td>0</td>\n      <td>0</td>\n      <td>0</td>\n      <td>0</td>\n      <td>1</td>\n      <td>65</td>\n      <td>0</td>\n      <td>10</td>\n      <td>1617</td>\n    </tr>\n    <tr>\n      <th>1</th>\n      <td>Graduate</td>\n      <td>Single</td>\n      <td>46344.0</td>\n      <td>38</td>\n      <td>11</td>\n      <td>1</td>\n      <td>6</td>\n      <td>2</td>\n      <td>1</td>\n      <td>6</td>\n      <td>...</td>\n      <td>0</td>\n      <td>0</td>\n      <td>0</td>\n      <td>0</td>\n      <td>0</td>\n      <td>0</td>\n      <td>68</td>\n      <td>2</td>\n      <td>8</td>\n      <td>27</td>\n    </tr>\n    <tr>\n      <th>2</th>\n      <td>Graduate</td>\n      <td>Together</td>\n      <td>71613.0</td>\n      <td>26</td>\n      <td>426</td>\n      <td>49</td>\n      <td>127</td>\n      <td>111</td>\n      <td>21</td>\n      <td>42</td>\n      <td>...</td>\n      <td>0</td>\n      <td>0</td>\n      <td>0</td>\n      <td>0</td>\n      <td>0</td>\n      <td>0</td>\n      <td>57</td>\n      <td>0</td>\n      <td>9</td>\n      <td>776</td>\n    </tr>\n    <tr>\n      <th>3</th>\n      <td>Graduate</td>\n      <td>Together</td>\n      <td>26646.0</td>\n      <td>26</td>\n      <td>11</td>\n      <td>4</td>\n      <td>20</td>\n      <td>10</td>\n      <td>3</td>\n      <td>5</td>\n      <td>...</td>\n      <td>0</td>\n      <td>0</td>\n      <td>0</td>\n      <td>0</td>\n      <td>0</td>\n      <td>0</td>\n      <td>38</td>\n      <td>1</td>\n      <td>8</td>\n      <td>53</td>\n    </tr>\n    <tr>\n      <th>4</th>\n      <td>PhD</td>\n      <td>Together</td>\n      <td>58293.0</td>\n      <td>94</td>\n      <td>173</td>\n      <td>43</td>\n      <td>118</td>\n      <td>46</td>\n      <td>27</td>\n      <td>15</td>\n      <td>...</td>\n      <td>0</td>\n      <td>0</td>\n      <td>0</td>\n      <td>0</td>\n      <td>0</td>\n      <td>0</td>\n      <td>41</td>\n      <td>1</td>\n      <td>8</td>\n      <td>422</td>\n    </tr>\n  </tbody>\n</table>\n<p>5 rows × 26 columns</p>\n</div>"
     },
     "execution_count": 39,
     "metadata": {},
     "output_type": "execute_result"
    }
   ],
   "source": [
    "df.head()"
   ]
  },
  {
   "cell_type": "code",
   "execution_count": 40,
   "id": "b2039091",
   "metadata": {
    "pycharm": {
     "name": "#%%\n"
    }
   },
   "outputs": [],
   "source": [
    "df['TotalAcceptedCmp'] = df['AcceptedCmp1'] + df['AcceptedCmp2'] + df['AcceptedCmp3'] + df['AcceptedCmp4'] + df['AcceptedCmp5'] + df['Response']"
   ]
  },
  {
   "cell_type": "code",
   "execution_count": 41,
   "id": "a76169c3",
   "metadata": {
    "pycharm": {
     "name": "#%%\n"
    }
   },
   "outputs": [],
   "source": [
    "df.drop(['AcceptedCmp3', 'AcceptedCmp4', 'AcceptedCmp5', 'AcceptedCmp1','AcceptedCmp2','Complain','Response'], axis=1, inplace=True)"
   ]
  },
  {
   "cell_type": "code",
   "execution_count": 42,
   "id": "d868ee95",
   "metadata": {
    "pycharm": {
     "name": "#%%\n"
    }
   },
   "outputs": [],
   "source": [
    "df['NumTotalPurchases'] = df['NumWebPurchases'] + df['NumCatalogPurchases'] + df['NumStorePurchases'] + df['NumDealsPurchases']+df['NumWebVisitsMonth']"
   ]
  },
  {
   "cell_type": "code",
   "execution_count": 43,
   "id": "399cd401",
   "metadata": {
    "pycharm": {
     "name": "#%%\n"
    }
   },
   "outputs": [],
   "source": [
    "df.drop(['NumWebPurchases','NumCatalogPurchases','NumStorePurchases','NumDealsPurchases','NumWebVisitsMonth'], axis=1, inplace=True)"
   ]
  },
  {
   "cell_type": "code",
   "execution_count": 44,
   "id": "62deb276",
   "metadata": {
    "pycharm": {
     "name": "#%%\n"
    }
   },
   "outputs": [
    {
     "data": {
      "text/plain": "  Education Marital_Status   Income  Recency  Wines  Fruits  Meat  Fish  \\\n0  Graduate         Single  58138.0       58    635      88   546   172   \n1  Graduate         Single  46344.0       38     11       1     6     2   \n2  Graduate       Together  71613.0       26    426      49   127   111   \n3  Graduate       Together  26646.0       26     11       4    20    10   \n4       PhD       Together  58293.0       94    173      43   118    46   \n\n   Sweets  Gold  Age  children  Yr_Customer_enroled  Spent  TotalAcceptedCmp  \\\n0      88    88   65         0                   10   1617                 1   \n1       1     6   68         2                    8     27                 0   \n2      21    42   57         0                    9    776                 0   \n3       3     5   38         1                    8     53                 0   \n4      27    15   41         1                    8    422                 0   \n\n   NumTotalPurchases  \n0                 32  \n1                 11  \n2                 25  \n3                 14  \n4                 24  ",
      "text/html": "<div>\n<style scoped>\n    .dataframe tbody tr th:only-of-type {\n        vertical-align: middle;\n    }\n\n    .dataframe tbody tr th {\n        vertical-align: top;\n    }\n\n    .dataframe thead th {\n        text-align: right;\n    }\n</style>\n<table border=\"1\" class=\"dataframe\">\n  <thead>\n    <tr style=\"text-align: right;\">\n      <th></th>\n      <th>Education</th>\n      <th>Marital_Status</th>\n      <th>Income</th>\n      <th>Recency</th>\n      <th>Wines</th>\n      <th>Fruits</th>\n      <th>Meat</th>\n      <th>Fish</th>\n      <th>Sweets</th>\n      <th>Gold</th>\n      <th>Age</th>\n      <th>children</th>\n      <th>Yr_Customer_enroled</th>\n      <th>Spent</th>\n      <th>TotalAcceptedCmp</th>\n      <th>NumTotalPurchases</th>\n    </tr>\n  </thead>\n  <tbody>\n    <tr>\n      <th>0</th>\n      <td>Graduate</td>\n      <td>Single</td>\n      <td>58138.0</td>\n      <td>58</td>\n      <td>635</td>\n      <td>88</td>\n      <td>546</td>\n      <td>172</td>\n      <td>88</td>\n      <td>88</td>\n      <td>65</td>\n      <td>0</td>\n      <td>10</td>\n      <td>1617</td>\n      <td>1</td>\n      <td>32</td>\n    </tr>\n    <tr>\n      <th>1</th>\n      <td>Graduate</td>\n      <td>Single</td>\n      <td>46344.0</td>\n      <td>38</td>\n      <td>11</td>\n      <td>1</td>\n      <td>6</td>\n      <td>2</td>\n      <td>1</td>\n      <td>6</td>\n      <td>68</td>\n      <td>2</td>\n      <td>8</td>\n      <td>27</td>\n      <td>0</td>\n      <td>11</td>\n    </tr>\n    <tr>\n      <th>2</th>\n      <td>Graduate</td>\n      <td>Together</td>\n      <td>71613.0</td>\n      <td>26</td>\n      <td>426</td>\n      <td>49</td>\n      <td>127</td>\n      <td>111</td>\n      <td>21</td>\n      <td>42</td>\n      <td>57</td>\n      <td>0</td>\n      <td>9</td>\n      <td>776</td>\n      <td>0</td>\n      <td>25</td>\n    </tr>\n    <tr>\n      <th>3</th>\n      <td>Graduate</td>\n      <td>Together</td>\n      <td>26646.0</td>\n      <td>26</td>\n      <td>11</td>\n      <td>4</td>\n      <td>20</td>\n      <td>10</td>\n      <td>3</td>\n      <td>5</td>\n      <td>38</td>\n      <td>1</td>\n      <td>8</td>\n      <td>53</td>\n      <td>0</td>\n      <td>14</td>\n    </tr>\n    <tr>\n      <th>4</th>\n      <td>PhD</td>\n      <td>Together</td>\n      <td>58293.0</td>\n      <td>94</td>\n      <td>173</td>\n      <td>43</td>\n      <td>118</td>\n      <td>46</td>\n      <td>27</td>\n      <td>15</td>\n      <td>41</td>\n      <td>1</td>\n      <td>8</td>\n      <td>422</td>\n      <td>0</td>\n      <td>24</td>\n    </tr>\n  </tbody>\n</table>\n</div>"
     },
     "execution_count": 44,
     "metadata": {},
     "output_type": "execute_result"
    }
   ],
   "source": [
    "df.head()"
   ]
  },
  {
   "cell_type": "code",
   "execution_count": 45,
   "id": "f4105871",
   "metadata": {
    "pycharm": {
     "name": "#%%\n"
    }
   },
   "outputs": [],
   "source": [
    "del df['Recency']"
   ]
  },
  {
   "cell_type": "code",
   "execution_count": 46,
   "id": "9831056e",
   "metadata": {
    "pycharm": {
     "name": "#%%\n"
    }
   },
   "outputs": [
    {
     "data": {
      "text/plain": "array(['Graduate', 'PhD', 'Master', 'Basic'], dtype=object)"
     },
     "execution_count": 46,
     "metadata": {},
     "output_type": "execute_result"
    }
   ],
   "source": [
    "df['Education'].unique()"
   ]
  },
  {
   "cell_type": "code",
   "execution_count": 47,
   "id": "eac629a3",
   "metadata": {
    "pycharm": {
     "name": "#%%\n"
    }
   },
   "outputs": [],
   "source": [
    "df['Education'] = df['Education'].replace({'Basic':0,'Graduate':1,'Master':2,'PhD':3})"
   ]
  },
  {
   "cell_type": "code",
   "execution_count": 48,
   "id": "448120f4",
   "metadata": {
    "pycharm": {
     "name": "#%%\n"
    }
   },
   "outputs": [],
   "source": [
    "df['Marital_Status'] = df['Marital_Status'].replace({'Single':0,'Together':1})"
   ]
  },
  {
   "cell_type": "code",
   "execution_count": 49,
   "id": "c1b1acf8",
   "metadata": {
    "pycharm": {
     "name": "#%%\n"
    }
   },
   "outputs": [
    {
     "data": {
      "text/plain": "   Education  Marital_Status   Income  Wines  Fruits  Meat  Fish  Sweets  \\\n0          1               0  58138.0    635      88   546   172      88   \n1          1               0  46344.0     11       1     6     2       1   \n2          1               1  71613.0    426      49   127   111      21   \n3          1               1  26646.0     11       4    20    10       3   \n4          3               1  58293.0    173      43   118    46      27   \n\n   Gold  Age  children  Yr_Customer_enroled  Spent  TotalAcceptedCmp  \\\n0    88   65         0                   10   1617                 1   \n1     6   68         2                    8     27                 0   \n2    42   57         0                    9    776                 0   \n3     5   38         1                    8     53                 0   \n4    15   41         1                    8    422                 0   \n\n   NumTotalPurchases  \n0                 32  \n1                 11  \n2                 25  \n3                 14  \n4                 24  ",
      "text/html": "<div>\n<style scoped>\n    .dataframe tbody tr th:only-of-type {\n        vertical-align: middle;\n    }\n\n    .dataframe tbody tr th {\n        vertical-align: top;\n    }\n\n    .dataframe thead th {\n        text-align: right;\n    }\n</style>\n<table border=\"1\" class=\"dataframe\">\n  <thead>\n    <tr style=\"text-align: right;\">\n      <th></th>\n      <th>Education</th>\n      <th>Marital_Status</th>\n      <th>Income</th>\n      <th>Wines</th>\n      <th>Fruits</th>\n      <th>Meat</th>\n      <th>Fish</th>\n      <th>Sweets</th>\n      <th>Gold</th>\n      <th>Age</th>\n      <th>children</th>\n      <th>Yr_Customer_enroled</th>\n      <th>Spent</th>\n      <th>TotalAcceptedCmp</th>\n      <th>NumTotalPurchases</th>\n    </tr>\n  </thead>\n  <tbody>\n    <tr>\n      <th>0</th>\n      <td>1</td>\n      <td>0</td>\n      <td>58138.0</td>\n      <td>635</td>\n      <td>88</td>\n      <td>546</td>\n      <td>172</td>\n      <td>88</td>\n      <td>88</td>\n      <td>65</td>\n      <td>0</td>\n      <td>10</td>\n      <td>1617</td>\n      <td>1</td>\n      <td>32</td>\n    </tr>\n    <tr>\n      <th>1</th>\n      <td>1</td>\n      <td>0</td>\n      <td>46344.0</td>\n      <td>11</td>\n      <td>1</td>\n      <td>6</td>\n      <td>2</td>\n      <td>1</td>\n      <td>6</td>\n      <td>68</td>\n      <td>2</td>\n      <td>8</td>\n      <td>27</td>\n      <td>0</td>\n      <td>11</td>\n    </tr>\n    <tr>\n      <th>2</th>\n      <td>1</td>\n      <td>1</td>\n      <td>71613.0</td>\n      <td>426</td>\n      <td>49</td>\n      <td>127</td>\n      <td>111</td>\n      <td>21</td>\n      <td>42</td>\n      <td>57</td>\n      <td>0</td>\n      <td>9</td>\n      <td>776</td>\n      <td>0</td>\n      <td>25</td>\n    </tr>\n    <tr>\n      <th>3</th>\n      <td>1</td>\n      <td>1</td>\n      <td>26646.0</td>\n      <td>11</td>\n      <td>4</td>\n      <td>20</td>\n      <td>10</td>\n      <td>3</td>\n      <td>5</td>\n      <td>38</td>\n      <td>1</td>\n      <td>8</td>\n      <td>53</td>\n      <td>0</td>\n      <td>14</td>\n    </tr>\n    <tr>\n      <th>4</th>\n      <td>3</td>\n      <td>1</td>\n      <td>58293.0</td>\n      <td>173</td>\n      <td>43</td>\n      <td>118</td>\n      <td>46</td>\n      <td>27</td>\n      <td>15</td>\n      <td>41</td>\n      <td>1</td>\n      <td>8</td>\n      <td>422</td>\n      <td>0</td>\n      <td>24</td>\n    </tr>\n  </tbody>\n</table>\n</div>"
     },
     "execution_count": 49,
     "metadata": {},
     "output_type": "execute_result"
    }
   ],
   "source": [
    "df.head()"
   ]
  },
  {
   "cell_type": "code",
   "execution_count": 50,
   "outputs": [
    {
     "name": "stdout",
     "output_type": "stream",
     "text": [
      "                     Education  Marital_Status    Income     Wines    Fruits  \\\n",
      "Education             1.000000        0.003151  0.121845  0.164552 -0.087460   \n",
      "Marital_Status        0.003151        1.000000 -0.012317 -0.006189 -0.025400   \n",
      "Income                0.121845       -0.012317  1.000000  0.728169  0.535305   \n",
      "Wines                 0.164552       -0.006189  0.728169  1.000000  0.387591   \n",
      "Fruits               -0.087460       -0.025400  0.535305  0.387591  1.000000   \n",
      "Meat                  0.001242       -0.028011  0.693762  0.586156  0.562744   \n",
      "Fish                 -0.091222       -0.017265  0.550047  0.398024  0.593941   \n",
      "Sweets               -0.084135       -0.019407  0.549804  0.384885  0.566545   \n",
      "Gold                 -0.114614       -0.029930  0.412553  0.384979  0.389145   \n",
      "Age                   0.139957        0.001459  0.211432  0.162628  0.013360   \n",
      "children              0.044788        0.039804 -0.347199 -0.354055 -0.395893   \n",
      "Yr_Customer_enroled  -0.038705       -0.007802 -0.025145  0.153672  0.054368   \n",
      "Spent                 0.062844       -0.020871  0.820222  0.895919  0.615443   \n",
      "TotalAcceptedCmp      0.053926       -0.060132  0.364369  0.488246  0.171273   \n",
      "NumTotalPurchases     0.075156        0.005466  0.519741  0.649786  0.343283   \n",
      "\n",
      "                         Meat      Fish    Sweets      Gold       Age  \\\n",
      "Education            0.001242 -0.091222 -0.084135 -0.114614  0.139957   \n",
      "Marital_Status      -0.028011 -0.017265 -0.019407 -0.029930  0.001459   \n",
      "Income               0.693762  0.550047  0.549804  0.412553  0.211432   \n",
      "Wines                0.586156  0.398024  0.384885  0.384979  0.162628   \n",
      "Fruits               0.562744  0.593941  0.566545  0.389145  0.013360   \n",
      "Meat                 1.000000  0.589813  0.544347  0.366044  0.038417   \n",
      "Fish                 0.589813  1.000000  0.578983  0.421147  0.042064   \n",
      "Sweets               0.544347  0.578983  1.000000  0.368117  0.018938   \n",
      "Gold                 0.366044  0.421147  0.368117  1.000000  0.056934   \n",
      "Age                  0.038417  0.042064  0.018938  0.056934  1.000000   \n",
      "children            -0.510945 -0.427105 -0.384810 -0.267020  0.095842   \n",
      "Yr_Customer_enroled  0.083836  0.066905  0.072817  0.142319 -0.024863   \n",
      "Spent                0.853435  0.644886  0.605164  0.525351  0.116090   \n",
      "TotalAcceptedCmp     0.343748  0.178641  0.198179  0.201847 -0.007961   \n",
      "NumTotalPurchases    0.396873  0.348025  0.359448  0.441172  0.154677   \n",
      "\n",
      "                     children  Yr_Customer_enroled     Spent  \\\n",
      "Education            0.044788            -0.038705  0.062844   \n",
      "Marital_Status       0.039804            -0.007802 -0.020871   \n",
      "Income              -0.347199            -0.025145  0.820222   \n",
      "Wines               -0.354055             0.153672  0.895919   \n",
      "Fruits              -0.395893             0.054368  0.615443   \n",
      "Meat                -0.510945             0.083836  0.853435   \n",
      "Fish                -0.427105             0.066905  0.644886   \n",
      "Sweets              -0.384810             0.072817  0.605164   \n",
      "Gold                -0.267020             0.142319  0.525351   \n",
      "Age                  0.095842            -0.024863  0.116090   \n",
      "children             1.000000            -0.032179 -0.499513   \n",
      "Yr_Customer_enroled -0.032179             1.000000  0.143727   \n",
      "Spent               -0.499513             0.143727  1.000000   \n",
      "TotalAcceptedCmp    -0.254894             0.051682  0.457727   \n",
      "NumTotalPurchases   -0.120384             0.273829  0.626256   \n",
      "\n",
      "                     TotalAcceptedCmp  NumTotalPurchases  \n",
      "Education                    0.053926           0.075156  \n",
      "Marital_Status              -0.060132           0.005466  \n",
      "Income                       0.364369           0.519741  \n",
      "Wines                        0.488246           0.649786  \n",
      "Fruits                       0.171273           0.343283  \n",
      "Meat                         0.343748           0.396873  \n",
      "Fish                         0.178641           0.348025  \n",
      "Sweets                       0.198179           0.359448  \n",
      "Gold                         0.201847           0.441172  \n",
      "Age                         -0.007961           0.154677  \n",
      "children                    -0.254894          -0.120384  \n",
      "Yr_Customer_enroled          0.051682           0.273829  \n",
      "Spent                        0.457727           0.626256  \n",
      "TotalAcceptedCmp             1.000000           0.230232  \n",
      "NumTotalPurchases            0.230232           1.000000  \n"
     ]
    }
   ],
   "source": [
    "corrMatrix = df.corr()\n",
    "print (corrMatrix)"
   ],
   "metadata": {
    "collapsed": false,
    "pycharm": {
     "name": "#%%\n"
    }
   }
  },
  {
   "cell_type": "code",
   "execution_count": 51,
   "outputs": [
    {
     "data": {
      "text/plain": "<Figure size 432x288 with 2 Axes>",
      "image/png": "[encoded data removed]"
     },
     "metadata": {
      "needs_background": "light"
     },
     "output_type": "display_data"
    }
   ],
   "source": [
    "sns.heatmap(corrMatrix, annot=True , cmap = 'ocean' )\n",
    "plt.show()"
   ],
   "metadata": {
    "collapsed": false,
    "pycharm": {
     "name": "#%%\n"
    }
   }
  },
  {
   "cell_type": "code",
   "execution_count": 52,
   "id": "df69d0aa",
   "metadata": {
    "pycharm": {
     "name": "#%%\n"
    }
   },
   "outputs": [],
   "source": [
    "#Normalize The Data before apply PCA\n",
    "# scaled_df= StandardScaler().fit_transform(df)\n",
    "# scaled_df = pd.DataFrame(scaled_df)\n",
    "\n",
    "\n",
    "scaled_df = Normalizer()\n",
    "scaled_df = scaled_df.fit_transform(df)\n",
    "scaled_df = pd.DataFrame(scaled_df)"
   ]
  },
  {
   "cell_type": "code",
   "execution_count": 53,
   "id": "ea5066c6",
   "metadata": {
    "pycharm": {
     "name": "#%%\n"
    }
   },
   "outputs": [
    {
     "data": {
      "text/plain": "         0         1         2         3         4         5         6   \\\n0  0.000017  0.000000  0.999501  0.010917  0.001513  0.009387  0.002957   \n1  0.000022  0.000000  0.999999  0.000237  0.000022  0.000129  0.000043   \n2  0.000014  0.000014  0.999920  0.005948  0.000684  0.001773  0.001550   \n3  0.000038  0.000038  0.999996  0.000413  0.000150  0.000751  0.000375   \n4  0.000051  0.000017  0.999966  0.002968  0.000738  0.002024  0.000789   \n\n         7         8         9         10        11        12        13  \\\n0  0.001513  0.001513  0.001117  0.000000  0.000172  0.027799  0.000017   \n1  0.000022  0.000129  0.001467  0.000043  0.000173  0.000583  0.000000   \n2  0.000293  0.000586  0.000796  0.000000  0.000126  0.010835  0.000000   \n3  0.000113  0.000188  0.001426  0.000038  0.000300  0.001989  0.000000   \n4  0.000463  0.000257  0.000703  0.000017  0.000137  0.007239  0.000000   \n\n         14  \n0  0.000550  \n1  0.000237  \n2  0.000349  \n3  0.000525  \n4  0.000412  ",
      "text/html": "<div>\n<style scoped>\n    .dataframe tbody tr th:only-of-type {\n        vertical-align: middle;\n    }\n\n    .dataframe tbody tr th {\n        vertical-align: top;\n    }\n\n    .dataframe thead th {\n        text-align: right;\n    }\n</style>\n<table border=\"1\" class=\"dataframe\">\n  <thead>\n    <tr style=\"text-align: right;\">\n      <th></th>\n      <th>0</th>\n      <th>1</th>\n      <th>2</th>\n      <th>3</th>\n      <th>4</th>\n      <th>5</th>\n      <th>6</th>\n      <th>7</th>\n      <th>8</th>\n      <th>9</th>\n      <th>10</th>\n      <th>11</th>\n      <th>12</th>\n      <th>13</th>\n      <th>14</th>\n    </tr>\n  </thead>\n  <tbody>\n    <tr>\n      <th>0</th>\n      <td>0.000017</td>\n      <td>0.000000</td>\n      <td>0.999501</td>\n      <td>0.010917</td>\n      <td>0.001513</td>\n      <td>0.009387</td>\n      <td>0.002957</td>\n      <td>0.001513</td>\n      <td>0.001513</td>\n      <td>0.001117</td>\n      <td>0.000000</td>\n      <td>0.000172</td>\n      <td>0.027799</td>\n      <td>0.000017</td>\n      <td>0.000550</td>\n    </tr>\n    <tr>\n      <th>1</th>\n      <td>0.000022</td>\n      <td>0.000000</td>\n      <td>0.999999</td>\n      <td>0.000237</td>\n      <td>0.000022</td>\n      <td>0.000129</td>\n      <td>0.000043</td>\n      <td>0.000022</td>\n      <td>0.000129</td>\n      <td>0.001467</td>\n      <td>0.000043</td>\n      <td>0.000173</td>\n      <td>0.000583</td>\n      <td>0.000000</td>\n      <td>0.000237</td>\n    </tr>\n    <tr>\n      <th>2</th>\n      <td>0.000014</td>\n      <td>0.000014</td>\n      <td>0.999920</td>\n      <td>0.005948</td>\n      <td>0.000684</td>\n      <td>0.001773</td>\n      <td>0.001550</td>\n      <td>0.000293</td>\n      <td>0.000586</td>\n      <td>0.000796</td>\n      <td>0.000000</td>\n      <td>0.000126</td>\n      <td>0.010835</td>\n      <td>0.000000</td>\n      <td>0.000349</td>\n    </tr>\n    <tr>\n      <th>3</th>\n      <td>0.000038</td>\n      <td>0.000038</td>\n      <td>0.999996</td>\n      <td>0.000413</td>\n      <td>0.000150</td>\n      <td>0.000751</td>\n      <td>0.000375</td>\n      <td>0.000113</td>\n      <td>0.000188</td>\n      <td>0.001426</td>\n      <td>0.000038</td>\n      <td>0.000300</td>\n      <td>0.001989</td>\n      <td>0.000000</td>\n      <td>0.000525</td>\n    </tr>\n    <tr>\n      <th>4</th>\n      <td>0.000051</td>\n      <td>0.000017</td>\n      <td>0.999966</td>\n      <td>0.002968</td>\n      <td>0.000738</td>\n      <td>0.002024</td>\n      <td>0.000789</td>\n      <td>0.000463</td>\n      <td>0.000257</td>\n      <td>0.000703</td>\n      <td>0.000017</td>\n      <td>0.000137</td>\n      <td>0.007239</td>\n      <td>0.000000</td>\n      <td>0.000412</td>\n    </tr>\n  </tbody>\n</table>\n</div>"
     },
     "execution_count": 53,
     "metadata": {},
     "output_type": "execute_result"
    }
   ],
   "source": [
    "scaled_df.head()"
   ]
  },
  {
   "cell_type": "code",
   "execution_count": 54,
   "id": "2c5da16a",
   "metadata": {
    "pycharm": {
     "name": "#%%\n"
    }
   },
   "outputs": [
    {
     "data": {
      "text/plain": "PCA()"
     },
     "execution_count": 54,
     "metadata": {},
     "output_type": "execute_result"
    }
   ],
   "source": [
    "pca = PCA()\n",
    "pca.fit(scaled_df)"
   ]
  },
  {
   "cell_type": "code",
   "execution_count": 55,
   "id": "50fa80e3",
   "metadata": {
    "pycharm": {
     "name": "#%%\n"
    }
   },
   "outputs": [
    {
     "data": {
      "text/plain": "array([0.86311616, 0.97064143, 0.98754752, 0.99394911, 0.99714688,\n       0.99873677, 0.99934587, 0.99983379, 0.99998387, 0.99999534,\n       0.99999747, 0.9999986 , 0.99999937, 1.        , 1.        ])"
     },
     "execution_count": 55,
     "metadata": {},
     "output_type": "execute_result"
    }
   ],
   "source": [
    "pca.explained_variance_ratio_\n",
    "pca.explained_variance_ratio_.cumsum()"
   ]
  },
  {
   "cell_type": "code",
   "execution_count": 56,
   "id": "0df8e771",
   "metadata": {
    "pycharm": {
     "name": "#%%\n"
    }
   },
   "outputs": [
    {
     "data": {
      "text/plain": "Text(0, 0.5, 'cumculative explained variance')"
     },
     "execution_count": 56,
     "metadata": {},
     "output_type": "execute_result"
    },
    {
     "data": {
      "text/plain": "<Figure size 720x576 with 1 Axes>",
      "image/png": "[encoded data removed]"
     },
     "metadata": {
      "needs_background": "light"
     },
     "output_type": "display_data"
    }
   ],
   "source": [
    "plt.figure(figsize=(10,8))\n",
    "plt.plot(range(1,16), pca.explained_variance_ratio_.cumsum(), marker='x', linestyle=\"--\")\n",
    "plt.title('Explained variance by components')\n",
    "plt.xlabel('number of components')\n",
    "plt.ylabel('cumculative explained variance')"
   ]
  },
  {
   "cell_type": "code",
   "execution_count": 57,
   "outputs": [],
   "source": [
    "pca6 = PCA(n_components=3)"
   ],
   "metadata": {
    "collapsed": false,
    "pycharm": {
     "name": "#%%\n"
    }
   }
  },
  {
   "cell_type": "code",
   "execution_count": 58,
   "outputs": [
    {
     "data": {
      "text/plain": "PCA(n_components=3)"
     },
     "execution_count": 58,
     "metadata": {},
     "output_type": "execute_result"
    }
   ],
   "source": [
    "pca6.fit(scaled_df)"
   ],
   "metadata": {
    "collapsed": false,
    "pycharm": {
     "name": "#%%\n"
    }
   }
  },
  {
   "cell_type": "code",
   "execution_count": 59,
   "outputs": [],
   "source": [
    "score_pca6 = pca6.transform(scaled_df)"
   ],
   "metadata": {
    "collapsed": false,
    "pycharm": {
     "name": "#%%\n"
    }
   }
  },
  {
   "cell_type": "code",
   "execution_count": 60,
   "outputs": [],
   "source": [
    "wcss = []\n",
    "for i in range(1,11):\n",
    "    kmeans_pca = KMeans(n_clusters = i, init = 'k-means++', random_state=42)\n",
    "    kmeans_pca.fit(score_pca6)\n",
    "    wcss.append(kmeans_pca.inertia_)"
   ],
   "metadata": {
    "collapsed": false,
    "pycharm": {
     "name": "#%%\n"
    }
   }
  },
  {
   "cell_type": "code",
   "execution_count": 61,
   "outputs": [
    {
     "data": {
      "text/plain": "[<matplotlib.lines.Line2D at 0x1a51c4e6f70>]"
     },
     "execution_count": 61,
     "metadata": {},
     "output_type": "execute_result"
    },
    {
     "data": {
      "text/plain": "<Figure size 720x576 with 1 Axes>",
      "image/png": "[encoded data removed]"
     },
     "metadata": {
      "needs_background": "light"
     },
     "output_type": "display_data"
    }
   ],
   "source": [
    "plt.figure(figsize=(10,8))\n",
    "plt.plot(range(1,11), wcss, marker='x', linestyle='--')"
   ],
   "metadata": {
    "collapsed": false,
    "pycharm": {
     "name": "#%%\n"
    }
   }
  },
  {
   "cell_type": "code",
   "execution_count": 62,
   "id": "36c6dd49",
   "metadata": {
    "pycharm": {
     "name": "#%%\n"
    }
   },
   "outputs": [],
   "source": [
    "kmeans_pca = KMeans(n_clusters= 3, init='k-means++', random_state= 20)"
   ]
  },
  {
   "cell_type": "code",
   "execution_count": 63,
   "id": "83e1ca66",
   "metadata": {
    "pycharm": {
     "name": "#%%\n"
    }
   },
   "outputs": [
    {
     "data": {
      "text/plain": "array([[0.02670796, 0.74037609, 0.01077231],\n       [0.0039957 , 0.76420735, 0.02021658],\n       [0.00797244, 0.75645522, 0.0084237 ],\n       ...,\n       [0.02276429, 0.74812675, 0.00763188],\n       [0.00944096, 0.75471268, 0.00680484],\n       [0.00093011, 0.7617911 , 0.01706173]])"
     },
     "execution_count": 63,
     "metadata": {},
     "output_type": "execute_result"
    }
   ],
   "source": [
    "kmeans_pca.fit_transform(score_pca6)"
   ]
  },
  {
   "cell_type": "code",
   "execution_count": 64,
   "id": "2c6193e5",
   "metadata": {
    "pycharm": {
     "name": "#%%\n"
    }
   },
   "outputs": [
    {
     "data": {
      "text/plain": "0.6019587886755335"
     },
     "execution_count": 64,
     "metadata": {},
     "output_type": "execute_result"
    }
   ],
   "source": [
    "metrics.silhouette_score(score_pca6,kmeans_pca.labels_)"
   ]
  },
  {
   "cell_type": "code",
   "execution_count": 65,
   "id": "b5a5bdd5",
   "metadata": {
    "pycharm": {
     "name": "#%%\n"
    }
   },
   "outputs": [],
   "source": [
    "Agg3 = AgglomerativeClustering(n_clusters=3).fit(score_pca6)"
   ]
  },
  {
   "cell_type": "code",
   "execution_count": 66,
   "id": "bf216a3d",
   "metadata": {
    "pycharm": {
     "name": "#%%\n"
    }
   },
   "outputs": [],
   "source": [
    "Agg3 = AgglomerativeClustering(n_clusters=2).fit(score_pca6)"
   ]
  },
  {
   "cell_type": "code",
   "execution_count": 67,
   "outputs": [
    {
     "data": {
      "text/plain": "Text(0, 0.5, 'Distance')"
     },
     "execution_count": 67,
     "metadata": {},
     "output_type": "execute_result"
    },
    {
     "data": {
      "text/plain": "<Figure size 360x360 with 1 Axes>",
      "image/png": "[encoded data removed]"
     },
     "metadata": {
      "needs_background": "light"
     },
     "output_type": "display_data"
    }
   ],
   "source": [
    "from sklearn.neighbors import NearestNeighbors\n",
    "import numpy as np\n",
    "\n",
    "nearest_neighbors = NearestNeighbors(n_neighbors=11)\n",
    "neighbors = nearest_neighbors.fit(scaled_df)\n",
    "\n",
    "distances, indices = neighbors.kneighbors(scaled_df)\n",
    "distances = np.sort(distances[:,10], axis=0)\n",
    "\n",
    "fig = plt.figure(figsize=(5, 5))\n",
    "plt.plot(distances)\n",
    "plt.xlabel(\"Points\")\n",
    "plt.ylabel(\"Distance\")"
   ],
   "metadata": {
    "collapsed": false,
    "pycharm": {
     "name": "#%%\n"
    }
   }
  },
  {
   "cell_type": "code",
   "execution_count": 68,
   "id": "9be9449f",
   "metadata": {
    "pycharm": {
     "name": "#%%\n"
    }
   },
   "outputs": [],
   "source": [
    "db3 = DBSCAN(eps= 0.3, min_samples = 18).fit(score_pca6).labels_"
   ]
  },
  {
   "cell_type": "code",
   "execution_count": 69,
   "id": "a658c717",
   "metadata": {
    "pycharm": {
     "name": "#%%\n"
    }
   },
   "outputs": [],
   "source": [
    "db3 = DBSCAN(eps= 0.2 , min_samples = 5).fit(score_pca6).labels_"
   ]
  },
  {
   "cell_type": "code",
   "execution_count": 70,
   "id": "f562e3b3",
   "metadata": {
    "pycharm": {
     "name": "#%%\n"
    }
   },
   "outputs": [],
   "source": [
    "gmm = GaussianMixture(n_components=2).fit(score_pca6)\n",
    "labels = gmm.predict(score_pca6)"
   ]
  },
  {
   "cell_type": "code",
   "execution_count": 71,
   "outputs": [
    {
     "data": {
      "text/plain": "0.984934333191665"
     },
     "execution_count": 71,
     "metadata": {},
     "output_type": "execute_result"
    }
   ],
   "source": [
    "metrics.silhouette_score(score_pca6,labels)"
   ],
   "metadata": {
    "collapsed": false,
    "pycharm": {
     "name": "#%%\n"
    }
   }
  },
  {
   "cell_type": "code",
   "execution_count": 71,
   "outputs": [],
   "source": [],
   "metadata": {
    "collapsed": false,
    "pycharm": {
     "name": "#%%\n"
    }
   }
  },
  {
   "cell_type": "code",
   "execution_count": 71,
   "id": "17797598",
   "metadata": {
    "pycharm": {
     "name": "#%%\n"
    }
   },
   "outputs": [],
   "source": []
  }
 ],
 "metadata": {
  "kernelspec": {
   "display_name": "Python 3 (ipykernel)",
   "language": "python",
   "name": "python3"
  },
  "language_info": {
   "codemirror_mode": {
    "name": "ipython",
    "version": 3
   },
   "file_extension": ".py",
   "mimetype": "text/x-python",
   "name": "python",
   "nbconvert_exporter": "python",
   "pygments_lexer": "ipython3",
   "version": "3.10.4"
  }
 },
 "nbformat": 4,
 "nbformat_minor": 5
}